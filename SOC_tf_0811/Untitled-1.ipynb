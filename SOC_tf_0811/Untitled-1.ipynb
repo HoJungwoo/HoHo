{
 "cells": [
  {
   "cell_type": "code",
   "execution_count": 2,
   "metadata": {},
   "outputs": [
    {
     "name": "stdout",
     "output_type": "stream",
     "text": [
      "cuda:0\n"
     ]
    }
   ],
   "source": [
    "import os\n",
    "import time\n",
    "\n",
    "import numpy as np\n",
    "import pandas as pd\n",
    "import matplotlib.pyplot as plt\n",
    "\n",
    "import torch\n",
    "import torch.nn as nn\n",
    "import torch.nn.functional as F\n",
    "import math\n",
    "from torch import nn, Tensor, TupleType\n",
    "from torch.nn import Transformer\n",
    "from torch.nn import LSTM\n",
    "\n",
    "from torch.utils.data import TensorDataset, DataLoader, Dataset, random_split\n",
    "from torch.autograd import Variable\n",
    "from tqdm import tqdm\n",
    "from sklearn.preprocessing import StandardScaler, MinMaxScaler\n",
    "from sklearn.model_selection import train_test_split  \n",
    "\n",
    "device = torch.device('cuda:0' if torch.cuda.is_available() else 'cpu')\n",
    "print(device)"
   ]
  },
  {
   "cell_type": "code",
   "execution_count": null,
   "metadata": {},
   "outputs": [],
   "source": []
  },
  {
   "cell_type": "code",
   "execution_count": 3,
   "metadata": {},
   "outputs": [],
   "source": [
    "def __d(K, n):\n",
    "  return (math.factorial(K - 1 + n)) / (math.factorial(K - 1) * math.factorial(n))\n",
    "\n",
    "def PolynomialActivation(x):\n",
    "  # x = x + 0.4\n",
    "  N = 11\n",
    "  K = 6\n",
    "  zeta = 0.5 #y\n",
    "  value = 0.5 #x\n",
    "  dK = 0\n",
    "  Sigmaz = 0\n",
    "  for n in range(0, N - K):\n",
    "    dK = dK + __d(K, n) * math.pow((1 - x), n)\n",
    "  for n in range(0, N - K):\n",
    "    Sigmaz = Sigmaz + __d(K, n) * math.pow((1 - zeta), n)\n",
    "  CNK = (value * (zeta ** (-K)) - Sigmaz) / ((1 - zeta) ** (N - K))\n",
    "  \n",
    "  return np.where(x < 0., 0., \n",
    "                  np.where(x > 1., 1., \n",
    "                           math.pow(x, K) * (dK + (CNK * (math.pow((1 - x), (N - K)))))))\n",
    "\n",
    "def SOC_fuzzy(SOC_tf, SOC_tf_prev, idx):\n",
    "    # print(-1*PolynomialActivation(abs(SOC_tf - SOC_tf_prev)) + 1)\n",
    "    # print(\" \")\n",
    "    # print(abs(SOC_tf - SOC_tf_prev))\n",
    "    w1 = (-1*PolynomialActivation(abs(SOC_tf - SOC_tf_prev)) + 1)\n",
    "    w2 = 1-w1\n",
    "\n",
    "    return w1*(SOC_tf) + w2*(SOC_tf_prev)"
   ]
  },
  {
   "cell_type": "code",
   "execution_count": 4,
   "metadata": {},
   "outputs": [],
   "source": [
    "class CustomDataset2(Dataset):\n",
    "    def __init__(self, file_path, x_size):\n",
    "        df = pd.read_csv(file_path)\n",
    "        #print(df.isnull().sum())\n",
    "\n",
    "        self.I = df.iloc[x_size:, 6:7].values\n",
    "        #self.x = np.reshape(x, (x.shape[0], 1, x.shape[1]))\n",
    "        self.y = df.iloc[x_size:, 13:14].values\n",
    "        \n",
    "        self.length = len(df) - x_size\n",
    "\n",
    "    #getitem이거 왜씀?\n",
    "    def __getitem__(self, index):\n",
    "        # x = torch.FloatTensor([self.x[index]])\n",
    "        # y = torch.FloatTensor([self.y[index]])\n",
    "        # return x, y\n",
    "        feature = torch.FloatTensor([self.x[index]])\n",
    "        # label = torch.FloatTensor(self.y[index])\n",
    "\n",
    "        return feature\n",
    "\n",
    "    def __len__(self):\n",
    "        return self.length"
   ]
  },
  {
   "cell_type": "code",
   "execution_count": 5,
   "metadata": {},
   "outputs": [],
   "source": [
    "dataset_d2 = CustomDataset2(\"FUDS_80.csv\", 2586)"
   ]
  },
  {
   "cell_type": "code",
   "execution_count": 6,
   "metadata": {},
   "outputs": [],
   "source": [
    "def fx(x_esti, idx):\n",
    "    # return A * x_esti + (dataset_d2.I[idx]*(1/44.72) / (1.648484097)) \n",
    "    return x_esti + (dataset_d2.I[idx]*100*(1.009217) / (1.600182 *3600/0.8)) #US -> 1.648484097 / DST -> 1.594214 / FUDS->1.600182  / BJDST->1.653517646\n",
    "# US -> 1.007828486 / DST -> 1.00612 /  FUDS -> 1.009217  /  BJDST -> 1.001287"
   ]
  },
  {
   "cell_type": "code",
   "execution_count": 7,
   "metadata": {},
   "outputs": [
    {
     "data": {
      "text/plain": [
       "(11095, 1)"
      ]
     },
     "execution_count": 7,
     "metadata": {},
     "output_type": "execute_result"
    }
   ],
   "source": [
    "dataset_d2.y.shape"
   ]
  },
  {
   "cell_type": "code",
   "execution_count": null,
   "metadata": {},
   "outputs": [],
   "source": []
  },
  {
   "cell_type": "code",
   "execution_count": 8,
   "metadata": {},
   "outputs": [
    {
     "data": {
      "image/png": "[encoded data removed]",
      "text/plain": [
       "<Figure size 1000x400 with 1 Axes>"
      ]
     },
     "metadata": {},
     "output_type": "display_data"
    }
   ],
   "source": [
    "n_samples = 11095\n",
    "\n",
    "arr = np.zeros(n_samples)\n",
    "\n",
    "for i in range(n_samples):\n",
    "    if i<1:\n",
    "        z_meas_prev = 80\n",
    "    else:\n",
    "        z_meas_prev = fx(z_meas_prev, i)\n",
    "\n",
    "    arr[i] = z_meas_prev\n",
    "\n",
    "\n",
    "plt.figure(figsize=(10,4))\n",
    "\n",
    "# plt.plot(arr[69:], label='cc')\n",
    "plt.plot(dataset_d2.y[69:], label='cc')\n",
    "\n",
    "# plt.legend(loc='upper right')\n",
    "# plt.title('fuzzy')\n",
    "# plt.xlabel('Time Steps')\n",
    "from sklearn.metrics import mean_absolute_error, mean_squared_error\n",
    "\n",
    "# print(\"mae : \", mean_absolute_error(arr[69:10000], dataset_d2.y[69:10000]))\n",
    "# print(\"mse : \", mean_squared_error(arr[69:10000], dataset_d2.y[69:10000]))\n",
    "# print(\"rmse : \", np.sqrt(mean_squared_error(arr[69:10000], dataset_d2.y[69:10000])))"
   ]
  }
 ],
 "metadata": {
  "kernelspec": {
   "display_name": "Python 3",
   "language": "python",
   "name": "python3"
  },
  "language_info": {
   "codemirror_mode": {
    "name": "ipython",
    "version": 3
   },
   "file_extension": ".py",
   "mimetype": "text/x-python",
   "name": "python",
   "nbconvert_exporter": "python",
   "pygments_lexer": "ipython3",
   "version": "3.10.9"
  }
 },
 "nbformat": 4,
 "nbformat_minor": 2
}
