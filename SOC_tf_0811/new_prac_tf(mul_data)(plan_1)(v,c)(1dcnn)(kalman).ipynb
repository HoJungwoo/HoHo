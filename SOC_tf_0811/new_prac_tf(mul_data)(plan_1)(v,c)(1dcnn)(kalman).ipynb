{
 "cells": [
  {
   "cell_type": "code",
   "execution_count": 1,
   "metadata": {},
   "outputs": [
    {
     "name": "stdout",
     "output_type": "stream",
     "text": [
      "cuda:0\n"
     ]
    }
   ],
   "source": [
    "import os\n",
    "import time\n",
    "\n",
    "import numpy as np\n",
    "import pandas as pd\n",
    "import matplotlib.pyplot as plt\n",
    "\n",
    "import torch\n",
    "import torch.nn as nn\n",
    "import torch.nn.functional as F\n",
    "import math\n",
    "from torch import nn, Tensor, TupleType\n",
    "from torch.nn import Transformer\n",
    "\n",
    "from torch.utils.data import TensorDataset, DataLoader, Dataset, random_split\n",
    "from torch.autograd import Variable\n",
    "from tqdm import tqdm\n",
    "from sklearn.preprocessing import StandardScaler, MinMaxScaler\n",
    "from sklearn.model_selection import train_test_split  \n",
    "\n",
    "device = torch.device('cuda:0' if torch.cuda.is_available() else 'cpu')\n",
    "print(device)"
   ]
  },
  {
   "cell_type": "code",
   "execution_count": 2,
   "metadata": {},
   "outputs": [],
   "source": [
    "mm_scaler = MinMaxScaler()\n",
    "\n",
    "class StrideDataset(Dataset):\n",
    "    def __init__(self, file_path, enc_seq_len, target_seq_len, x_size, stride=5):\n",
    "        df = pd.read_csv(file_path)\n",
    "        \n",
    "        self.soc = df.iloc[x_size:, 13:14].values #SoC\n",
    "        self.soc = self.soc.squeeze()\n",
    "        self.soc = mm_scaler.fit_transform(self.soc.reshape(-1, 1))\n",
    "        self.soc = self.soc.squeeze()\n",
    "\n",
    "        self.src_v = df.iloc[x_size:, 7:8].values #V\n",
    "        self.src_v = self.src_v.squeeze()\n",
    "        self.src_v = mm_scaler.fit_transform(self.src_v.reshape(-1, 1))\n",
    "        self.src_v = self.src_v.squeeze()\n",
    "\n",
    "        self.src_c = df.iloc[x_size:, 6:7].values #I\n",
    "        self.src_c = self.src_c.squeeze()\n",
    "        self.src_c = mm_scaler.fit_transform(self.src_c.reshape(-1, 1))\n",
    "        self.src_c = self.src_c.squeeze()\n",
    "\n",
    "\n",
    "        self.length = len(df) - x_size\n",
    "\n",
    "        num_samples = (self.length - enc_seq_len - target_seq_len) // stride + 1 #stride씩 움직일 때 생기는 총 sample 개수\n",
    "        \n",
    "        src_v = np.zeros([enc_seq_len, num_samples])\n",
    "        src_c = np.zeros([enc_seq_len, num_samples])\n",
    "        trg = np.zeros([target_seq_len, num_samples])\n",
    "\n",
    "\n",
    "        for i in np.arange(num_samples):\n",
    "            start_x = stride*i\n",
    "            end_x = start_x + enc_seq_len\n",
    "            src_v[:,i] = self.src_v[start_x:end_x]\n",
    "            src_c[:,i] = self.src_c[start_x:end_x]\n",
    "\n",
    "            start_y = stride*i + enc_seq_len\n",
    "            end_y = start_y + target_seq_len\n",
    "            trg[:,i] = self.soc[start_y:end_y]\n",
    "\n",
    "        src_v = src_v.reshape(src_v.shape[0], src_v.shape[1], 1).transpose((1,0,2))\n",
    "        src_c = src_c.reshape(src_c.shape[0], src_c.shape[1], 1).transpose((1,0,2))\n",
    "        trg = trg.reshape(trg.shape[0], trg.shape[1], 1).transpose((1,0,2))\n",
    "\n",
    "        self.src_v = src_v\n",
    "        self.src_c = src_c\n",
    "        self.trg = trg\n",
    "\n",
    "        self.len = len(src_v)\n",
    "\n",
    "    def __getitem__(self, i):\n",
    "        return self.src_v[i], self.src_c[i], self.trg[i, :-1], self.trg[i, 1:]\n",
    "    \n",
    "    def __len__(self):\n",
    "        return self.len"
   ]
  },
  {
   "cell_type": "code",
   "execution_count": 3,
   "metadata": {},
   "outputs": [],
   "source": [
    "# class StrideDataset_2(Dataset):\n",
    "#     def __init__(self, file_path, enc_seq_len, target_seq_len, x_size, stride=5):\n",
    "#         df = pd.read_csv(file_path)\n",
    "        \n",
    "#         self.data = df.iloc[x_size:, 13:14].values #SoC\n",
    "#         self.data = self.data.squeeze()\n",
    "\n",
    "#         self.length = len(df) - x_size\n",
    "\n",
    "#         num_samples = (self.length - enc_seq_len - target_seq_len) // stride + 1 #stride씩 움직일 때 생기는 총 sample 개수\n",
    "        \n",
    "#         src = np.zeros([enc_seq_len, num_samples])\n",
    "#         trg = np.zeros([target_seq_len, num_samples])\n",
    "\n",
    "\n",
    "#         for i in np.arange(num_samples):\n",
    "#             start_x = stride*i\n",
    "#             end_x = start_x + enc_seq_len\n",
    "#             src[:,i] = self.data[start_x:end_x]\n",
    "\n",
    "#             start_y = stride*i + enc_seq_len\n",
    "#             end_y = start_y + target_seq_len\n",
    "#             trg[:,i] = self.data[start_y:end_y]\n",
    "\n",
    "#         src = src.reshape(src.shape[0], src.shape[1], 1).transpose((1,0,2))\n",
    "#         trg = trg.reshape(trg.shape[0], trg.shape[1], 1).transpose((1,0,2))\n",
    "#         self.src = src\n",
    "#         self.trg = trg\n",
    "\n",
    "#         self.len = len(src)\n",
    "\n",
    "#     def __getitem__(self, i):\n",
    "#         return self.src[i], self.trg[i, :-1], self.trg[i, 1:]\n",
    "    \n",
    "#     def __len__(self):\n",
    "#         return self.len"
   ]
  },
  {
   "cell_type": "code",
   "execution_count": 4,
   "metadata": {},
   "outputs": [],
   "source": [
    "class CustomDataset(Dataset):\n",
    "    def __init__(self, file_path, x_size):\n",
    "        df = pd.read_csv(file_path)\n",
    "        #print(df.isnull().sum())\n",
    "\n",
    "        self.x = df.iloc[x_size:, 6:10].values\n",
    "        #self.x = np.reshape(x, (x.shape[0], 1, x.shape[1]))\n",
    "        self.y = df.iloc[x_size:, 13:14].values\n",
    "        \n",
    "        self.length = len(df) - x_size\n",
    "\n",
    "    #getitem이거 왜씀?\n",
    "    def __getitem__(self, index):\n",
    "        # x = torch.FloatTensor([self.x[index]])\n",
    "        # y = torch.FloatTensor([self.y[index]])\n",
    "        # return x, y\n",
    "        feature = torch.FloatTensor([self.x[index]])\n",
    "        label = torch.FloatTensor(self.y[index])\n",
    "\n",
    "        return feature, label\n",
    "\n",
    "    def __len__(self):\n",
    "        return self.length"
   ]
  },
  {
   "cell_type": "code",
   "execution_count": 5,
   "metadata": {},
   "outputs": [],
   "source": [
    "train_dataset_1 = StrideDataset(\"DST_80.csv\", 50, 20, 1919, stride=5)\n",
    "train_dataset_2 = StrideDataset(\"FUDS_80.csv\", 50, 20, 2586, stride=5)\n",
    "\n",
    "train_dataset = torch.utils.data.ConcatDataset([train_dataset_1, train_dataset_2])\n",
    "\n",
    "\n",
    "\n",
    "train_dataloader = DataLoader(train_dataset, batch_size=257, shuffle=False, drop_last=False)\n",
    "dataset_d = CustomDataset(\"US06_80.csv\", 1207)"
   ]
  },
  {
   "cell_type": "code",
   "execution_count": 6,
   "metadata": {},
   "outputs": [],
   "source": [
    "# plt.plot(train_dataset_1)\n",
    "# plt.show()\n",
    "# plt.plot(train_dataset.src_v.squeeze())\n",
    "# plt.show()\n",
    "# plt.plot(train_dataset.trg.squeeze())\n",
    "# plt.show()\n"
   ]
  },
  {
   "cell_type": "code",
   "execution_count": 7,
   "metadata": {},
   "outputs": [],
   "source": [
    "class TFModel(nn.Module):\n",
    "    def __init__(self, d_model, nhead, nhid, nlayers, dropout=0.5):\n",
    "        super(TFModel, self).__init__()\n",
    "\n",
    "        # self.transformer = Transformer(d_model=d_model, nhead=nhead, dim_feedforward=nhid, num_encoder_layers=nlayers, num_decoder_layers=nlayers,dropout=dropout)\n",
    "        \n",
    "        # self.linear = nn.Linear(d_model, 1)\n",
    "        # self.pos_encoder = PositionalEncoding(d_model, dropout)\n",
    "\n",
    "        # self.encoder = nn.Linear(1, d_model)\n",
    "\n",
    "        self.coder_in = nn.Linear(1,d_model)\n",
    "        \n",
    "        self.conv_in = nn.Sequential(\n",
    "            nn.Conv1d(1, 500, kernel_size= 15),\n",
    "            nn.Linear(50-15+1, 50) #src-ker+1, src\n",
    "        )\n",
    "        \n",
    "        self.conv_out = nn.Sequential(\n",
    "            nn.Conv1d(d_model, 1, kernel_size= 5),\n",
    "            nn.Linear(20-5, 20-1) #tgt-ker, tgt-1\n",
    "        )\n",
    "\n",
    "        self.coder_pos = PositionalEncoding(d_model, dropout)\n",
    "\n",
    "        self.encoder_layer = nn.TransformerEncoderLayer(d_model=d_model, nhead=nhead, dropout=dropout)\n",
    "        self.transformer_encoder = nn.TransformerEncoder(self.encoder_layer, num_layers=nlayers)\n",
    "\n",
    "        self.con_lin = nn.Linear(d_model*2, d_model)\n",
    "\n",
    "        self.decoder_layer = nn.TransformerDecoderLayer(d_model=d_model, nhead=nhead, dropout=dropout)\n",
    "        self.transformer_decoder = nn.TransformerDecoder(self.decoder_layer, num_layers=nlayers) #(target, memory) // memort->인코더에서 나온 컨텍스트벡터?\n",
    "        self.linear = nn.Linear(d_model, 1)\n",
    "        self.linear_in = nn.Linear(1, d_model)\n",
    "        \n",
    "\n",
    "    def generate_square_subsequent_mask(self, sz):\n",
    "        mask = (torch.triu(torch.ones(sz, sz)) == 1).transpose(0, 1)\n",
    "        mask = mask.float().masked_fill(mask == 0, float('-inf')).masked_fill(mask == 1, float(0.0))\n",
    "        return mask\n",
    "\n",
    "    #def forward(self, src, tgt, srcmask, tgtmask):\n",
    "    def forward(self, src_v, src_c, tgt_s, srcmask, tgtmask):\n",
    "        #src_v = self.coder_in(src_v)\n",
    "        src_v = self.conv_in(src_v.transpose(2,1)).transpose(2,1)\n",
    "        #src_v = self.linear_in(src_v)\n",
    "        src_v = self.coder_pos(src_v)\n",
    "\n",
    "        #src_c = self.coder_in(src_c)\n",
    "        src_c = self.conv_in(src_c.transpose(2,1)).transpose(2,1)\n",
    "        #src_c = self.linear_in(src_c)\n",
    "        src_c = self.coder_pos(src_c)\n",
    "\n",
    "        con_v = self.transformer_encoder(src_v.transpose(0,1), srcmask).transpose(0,1)\n",
    "        con_c = self.transformer_encoder(src_c.transpose(0,1), srcmask).transpose(0,1)\n",
    "        \n",
    "        #print(con_v.shape)\n",
    "        #print(con_c.shape)\n",
    "        \n",
    "\n",
    "        con = torch.cat((con_v, con_c), dim=2)\n",
    "        #print(con.shape)\n",
    "        \n",
    "        con = self.con_lin(con)\n",
    "        #print(con.shape)\n",
    "        \n",
    "        \n",
    "        #print(tgt_s.shape)\n",
    "        tgt_s = self.coder_in(tgt_s)\n",
    "        tgt_s = self.coder_pos(tgt_s)\n",
    "        #print(tgt_s.shape)\n",
    "        \n",
    "        tgt = self.transformer_decoder(tgt_s.transpose(0,1), con.transpose(0,1)).transpose(0,1)\n",
    "        #print(tgt.shape)\n",
    "        tgt = self.conv_out(tgt.transpose(2,1)).transpose(2,1)\n",
    "        #tgt = self.linear(tgt)\n",
    "        #print(tgt.shape)\n",
    "\n",
    "        return tgt\n",
    "\n",
    "class PositionalEncoding(nn.Module):\n",
    "    def __init__(self, d_model, dropout=0.1, max_len=5000):\n",
    "        super(PositionalEncoding, self).__init__()\n",
    "        self.dropout = nn.Dropout(p=dropout)\n",
    "\n",
    "        pe = torch.zeros(max_len, d_model)\n",
    "        position = torch.arange(0, max_len, dtype=torch.float).unsqueeze(1)\n",
    "        div_term = torch.exp(torch.arange(0, d_model, 2).float() * (-math.log(10000.0) / d_model))\n",
    "        pe[:, 0::2] = torch.sin(position * div_term)\n",
    "        pe[:, 1::2] = torch.cos(position * div_term)\n",
    "        pe = pe.unsqueeze(0).transpose(0, 1)\n",
    "        self.register_buffer('pe', pe)\n",
    "\n",
    "    def forward(self, x):\n",
    "        x = x + self.pe[:x.size(0), :]\n",
    "        return self.dropout(x)\n",
    "\n",
    "def gen_attention_mask(x):\n",
    "    mask = torch.eq(x, 0)\n",
    "    return mask"
   ]
  },
  {
   "cell_type": "code",
   "execution_count": null,
   "metadata": {},
   "outputs": [],
   "source": []
  },
  {
   "cell_type": "code",
   "execution_count": 8,
   "metadata": {},
   "outputs": [],
   "source": [
    "lr = 0.00003\n",
    "model = TFModel(500, 10, 256, 4, 0.1).to(device)\n",
    "criterion = nn.MSELoss()\n",
    "optimizer = torch.optim.AdamW(model.parameters(), lr=lr)"
   ]
  },
  {
   "cell_type": "code",
   "execution_count": 9,
   "metadata": {},
   "outputs": [
    {
     "name": "stderr",
     "output_type": "stream",
     "text": [
      "loss: 0.000075: 100%|██████████| 2500/2500 [2:44:04<00:00,  3.94s/it]  \n"
     ]
    }
   ],
   "source": [
    "epoch = 2500\n",
    "model.train()\n",
    "progress = tqdm(range(epoch))\n",
    "\n",
    "loss_arr = list()\n",
    "\n",
    "\n",
    "for i in progress:\n",
    "    batchloss = 0.0\n",
    "    for (inputs_v, inputs_c, dec_inputs, outputs) in train_dataloader:\n",
    "        optimizer.zero_grad()\n",
    "        #print(inputs_v.shape[1])\n",
    "        src_mask = model.generate_square_subsequent_mask(inputs_v.shape[1]).to(device)\n",
    "        #print(dec_inputs.shape[1])\n",
    "        tgt_mask = model.generate_square_subsequent_mask(dec_inputs.shape[1]).to(device)\n",
    "        \n",
    "        result = model(inputs_v.float().to(device), inputs_c.float().to(device), dec_inputs.float().to(device), src_mask, tgt_mask)\n",
    "        \n",
    "        #loss = criterion(result.permute(1,0,2), outputs.float().to(device))\n",
    "        loss = criterion(result, outputs.float().to(device))\n",
    "        \n",
    "        \n",
    "        loss.backward()\n",
    "        optimizer.step()\n",
    "        batchloss += loss\n",
    "    \n",
    "        \n",
    "    loss_arr.append((batchloss.cpu().item() / len(train_dataloader)))\n",
    "    progress.set_description(\"loss: {:0.6f}\".format(batchloss.cpu().item() / len(train_dataloader)))\n",
    "\n",
    "\n",
    "\n",
    "\n",
    "    # for i in progress:\n",
    "    # batchloss = 0.0\n",
    "\n",
    "    # for (inputs, tgt, tgt_y) in train_dataloader:\n",
    "    #     optimizer.zero_grad()\n",
    "\n",
    "    #     result = model(src.float().to(device), tgt.float().to(device), src_mask, tgt_mask)\n",
    "    #     loss = loss_func(result, tgt_y.float().to(device))\n",
    "\n",
    "    #     loss.backward()\n",
    "    #     optimizer.step()\n",
    "    #     batchloss += loss\n",
    "    \n",
    "    # progress.set_description(\"{:0.5f}\".format(batchloss.cpu().item() / len(train_dataloader)))#??"
   ]
  },
  {
   "cell_type": "code",
   "execution_count": 10,
   "metadata": {},
   "outputs": [
    {
     "data": {
      "text/plain": [
       "[<matplotlib.lines.Line2D at 0x2032d098070>]"
      ]
     },
     "execution_count": 10,
     "metadata": {},
     "output_type": "execute_result"
    },
    {
     "data": {
      "image/png": "[encoded data removed]",
      "text/plain": [
       "<Figure size 640x480 with 1 Axes>"
      ]
     },
     "metadata": {},
     "output_type": "display_data"
    }
   ],
   "source": [
    "plt.plot(loss_arr, label=\"loss\")\n"
   ]
  },
  {
   "cell_type": "code",
   "execution_count": 11,
   "metadata": {},
   "outputs": [],
   "source": [
    "eval_dataset = StrideDataset(\"US06_80.csv\", 50, 20, 1207, stride=1)\n",
    "\n",
    "\n",
    "\n",
    "eval_dataloader = DataLoader(eval_dataset, batch_size=257, shuffle=False, drop_last=False)"
   ]
  },
  {
   "cell_type": "code",
   "execution_count": null,
   "metadata": {},
   "outputs": [],
   "source": []
  },
  {
   "cell_type": "code",
   "execution_count": 12,
   "metadata": {},
   "outputs": [
    {
     "name": "stdout",
     "output_type": "stream",
     "text": [
      "torch.Size([10621])\n"
     ]
    }
   ],
   "source": [
    "model.eval()\n",
    "\n",
    "predictions = torch.Tensor(0)\n",
    "actual = torch.Tensor(0)\n",
    "\n",
    "with torch.no_grad():\n",
    "    for (inputs_v, inputs_c, dec_inputs, outputs) in eval_dataloader:\n",
    "        src_mask = model.generate_square_subsequent_mask(inputs_v.shape[1]).to(device)\n",
    "        tgt_mask = model.generate_square_subsequent_mask(dec_inputs.shape[1]).to(device)\n",
    "        \n",
    "        output = model(inputs_v.float().to(device), inputs_c.float().to(device), dec_inputs.float().to(device), src_mask, tgt_mask)\n",
    "        output = output.permute(1,0,2)\n",
    "        \n",
    "        predictions = torch.cat((predictions, output[-1].view(-1).cpu()), 0) # view(-1) => 1차원으로 바꾼다 생각\n",
    "        actual = torch.cat((actual, outputs[-1].view(-1).cpu()), 0)\n",
    "\n",
    "\n",
    "print(predictions.shape)"
   ]
  },
  {
   "cell_type": "code",
   "execution_count": 13,
   "metadata": {},
   "outputs": [],
   "source": [
    "predictions = predictions * 80"
   ]
  },
  {
   "cell_type": "code",
   "execution_count": 14,
   "metadata": {},
   "outputs": [],
   "source": [
    "#predictions = mm_scaler.inverse_transform(predictions.reshape(-1,1))"
   ]
  },
  {
   "cell_type": "markdown",
   "metadata": {},
   "source": []
  },
  {
   "cell_type": "code",
   "execution_count": null,
   "metadata": {},
   "outputs": [],
   "source": []
  },
  {
   "cell_type": "code",
   "execution_count": 15,
   "metadata": {},
   "outputs": [
    {
     "data": {
      "text/plain": [
       "[<matplotlib.lines.Line2D at 0x20390816650>]"
      ]
     },
     "execution_count": 15,
     "metadata": {},
     "output_type": "execute_result"
    },
    {
     "data": {
      "image/png": "[encoded data removed]",
      "text/plain": [
       "<Figure size 640x480 with 1 Axes>"
      ]
     },
     "metadata": {},
     "output_type": "display_data"
    }
   ],
   "source": [
    "#plt.plot(range(20000-639,20000),dataset_d.y[20000-639:], label=\"real\")\n",
    "plt.plot(predictions, label=\"predict\")\n",
    "#plt.plot(dataset_d.y, label=\"real\")\n",
    "#plt.xlim(0,2)\n",
    "\n",
    "\n",
    "# plt.legend()\n",
    "# plt.show()"
   ]
  },
  {
   "cell_type": "code",
   "execution_count": 16,
   "metadata": {},
   "outputs": [
    {
     "data": {
      "text/plain": [
       "Text(0.5, 0, 'Time Steps')"
      ]
     },
     "execution_count": 16,
     "metadata": {},
     "output_type": "execute_result"
    },
    {
     "data": {
      "image/png": "[encoded data removed]",
      "text/plain": [
       "<Figure size 640x480 with 1 Axes>"
      ]
     },
     "metadata": {},
     "output_type": "display_data"
    }
   ],
   "source": [
    "plt.plot(dataset_d.y, color='red', alpha=0.7)\n",
    "plt.plot(predictions, color='blue', linewidth=0.7)\n",
    "plt.title('Actual vs Forecast')\n",
    "plt.legend(['Actual', 'Forecast'])\n",
    "plt.xlabel('Time Steps')\n",
    "#plt.xlim([4500,5000])AA"
   ]
  },
  {
   "cell_type": "code",
   "execution_count": 17,
   "metadata": {},
   "outputs": [
    {
     "name": "stdout",
     "output_type": "stream",
     "text": [
      "(10690, 1)\n",
      "torch.Size([10621])\n"
     ]
    },
    {
     "data": {
      "text/plain": [
       "0.4904009141233745"
      ]
     },
     "execution_count": 17,
     "metadata": {},
     "output_type": "execute_result"
    }
   ],
   "source": [
    "from sklearn.metrics import mean_absolute_error \n",
    "\n",
    "print(dataset_d.y.shape)\n",
    "print(predictions.shape)\n",
    "\n",
    "\n",
    "mean_absolute_error(dataset_d.y[:10000], predictions[:10000])"
   ]
  },
  {
   "cell_type": "markdown",
   "metadata": {},
   "source": [
    "칼만필터 적용 (전류적산 / 모델 예측)"
   ]
  },
  {
   "cell_type": "code",
   "execution_count": 19,
   "metadata": {},
   "outputs": [],
   "source": [
    "def kalman_filter(z_meas, x_esti, P):\n",
    "    \"\"\"Kalman Filter Algorithm for One Variable.\"\"\"\n",
    "    # (1) Prediction.\n",
    "    x_pred = A * x_esti\n",
    "    P_pred = A * P * A + Q\n",
    "\n",
    "    # (2) Kalman Gain.\n",
    "    K = P_pred * H / (H * P_pred * H + R)\n",
    "\n",
    "    # (3) Estimation.\n",
    "    x_esti = x_pred + K * (z_meas - H * x_pred)\n",
    "\n",
    "    # (4) Error Covariance.\n",
    "    P = P_pred - K * H * P_pred\n",
    "\n",
    "    return x_esti, P"
   ]
  },
  {
   "cell_type": "code",
   "execution_count": 64,
   "metadata": {},
   "outputs": [],
   "source": [
    "# Initialization for system model.\n",
    "A = 1\n",
    "H = 1\n",
    "Q = 0.00000001\n",
    "R = 0.00001\n",
    "# Initialization for estimation.\n",
    "x_0 = 80\n",
    "P_0 = 10"
   ]
  },
  {
   "cell_type": "code",
   "execution_count": 28,
   "metadata": {},
   "outputs": [],
   "source": [
    "n_samples = 10621\n",
    "\n",
    "soc_meas_save = np.zeros(n_samples)\n",
    "soc_esti_save = np.zeros(n_samples)"
   ]
  },
  {
   "cell_type": "code",
   "execution_count": 65,
   "metadata": {},
   "outputs": [],
   "source": [
    "x_esti, P = None, None\n",
    "for i in range(n_samples):\n",
    "    z_meas = predictions[i]\n",
    "    if i == 0:\n",
    "        x_esti, P = x_0, P_0\n",
    "    else:\n",
    "        x_esti, P = kalman_filter(z_meas, x_esti, P)\n",
    "\n",
    "    soc_meas_save[i] = z_meas\n",
    "    soc_esti_save[i] = x_esti"
   ]
  },
  {
   "cell_type": "code",
   "execution_count": 70,
   "metadata": {},
   "outputs": [
    {
     "data": {
      "text/plain": [
       "Text(0.5, 0, 'Time Steps')"
      ]
     },
     "execution_count": 70,
     "metadata": {},
     "output_type": "execute_result"
    },
    {
     "data": {
      "image/png": "[encoded data removed]",
      "text/plain": [
       "<Figure size 640x480 with 1 Axes>"
      ]
     },
     "metadata": {},
     "output_type": "display_data"
    }
   ],
   "source": [
    "plt.plot(soc_meas_save, label='Measurements(model soc)')\n",
    "plt.plot(soc_esti_save, label='Kalman Filter')\n",
    "plt.plot(dataset_d.y, label='actual data')\n",
    "plt.legend(loc='upper left')\n",
    "plt.title('Kalman Filter')\n",
    "plt.xlabel('Time Steps')"
   ]
  },
  {
   "cell_type": "code",
   "execution_count": 71,
   "metadata": {},
   "outputs": [
    {
     "data": {
      "text/plain": [
       "0.45008827282263075"
      ]
     },
     "execution_count": 71,
     "metadata": {},
     "output_type": "execute_result"
    }
   ],
   "source": [
    "mean_absolute_error(dataset_d.y[:10000], soc_esti_save[:10000])"
   ]
  }
 ],
 "metadata": {
  "kernelspec": {
   "display_name": "Python 3",
   "language": "python",
   "name": "python3"
  },
  "language_info": {
   "codemirror_mode": {
    "name": "ipython",
    "version": 3
   },
   "file_extension": ".py",
   "mimetype": "text/x-python",
   "name": "python",
   "nbconvert_exporter": "python",
   "pygments_lexer": "ipython3",
   "version": "3.10.9"
  },
  "orig_nbformat": 4
 },
 "nbformat": 4,
 "nbformat_minor": 2
}
