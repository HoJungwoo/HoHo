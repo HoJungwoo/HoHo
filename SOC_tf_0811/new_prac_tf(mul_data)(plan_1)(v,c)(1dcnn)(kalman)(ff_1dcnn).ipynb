{
 "cells": [
  {
   "cell_type": "code",
   "execution_count": 1,
   "metadata": {},
   "outputs": [
    {
     "name": "stdout",
     "output_type": "stream",
     "text": [
      "cuda:0\n"
     ]
    }
   ],
   "source": [
    "import os\n",
    "import time\n",
    "\n",
    "import numpy as np\n",
    "import pandas as pd\n",
    "import matplotlib.pyplot as plt\n",
    "\n",
    "import torch\n",
    "import torch.nn as nn\n",
    "import torch.nn.functional as F\n",
    "import math\n",
    "from torch import nn, Tensor, TupleType\n",
    "from torch.nn import Transformer\n",
    "\n",
    "from torch.utils.data import TensorDataset, DataLoader, Dataset, random_split\n",
    "from torch.autograd import Variable\n",
    "from tqdm import tqdm\n",
    "from sklearn.preprocessing import StandardScaler, MinMaxScaler\n",
    "from sklearn.model_selection import train_test_split  \n",
    "\n",
    "device = torch.device('cuda:0' if torch.cuda.is_available() else 'cpu')\n",
    "print(device)"
   ]
  },
  {
   "cell_type": "code",
   "execution_count": 2,
   "metadata": {},
   "outputs": [],
   "source": [
    "mm_scaler = MinMaxScaler()\n",
    "\n",
    "class StrideDataset(Dataset):\n",
    "    def __init__(self, file_path, enc_seq_len, target_seq_len, x_size, stride=5):\n",
    "        df = pd.read_csv(file_path)\n",
    "        \n",
    "        self.soc = df.iloc[x_size:, 20:21].values #SoC\n",
    "        self.soc = self.soc.squeeze()\n",
    "        self.soc = mm_scaler.fit_transform(self.soc.reshape(-1, 1))\n",
    "        self.soc = self.soc.squeeze()\n",
    "\n",
    "        self.src_v = df.iloc[x_size:, 7:8].values #V\n",
    "        self.src_v = self.src_v.squeeze()\n",
    "        self.src_v = mm_scaler.fit_transform(self.src_v.reshape(-1, 1))\n",
    "        self.src_v = self.src_v.squeeze()\n",
    "\n",
    "        self.src_c = df.iloc[x_size:, 6:7].values #I\n",
    "        self.src_c = self.src_c.squeeze()\n",
    "        self.src_c = mm_scaler.fit_transform(self.src_c.reshape(-1, 1))\n",
    "        self.src_c = self.src_c.squeeze()\n",
    "\n",
    "\n",
    "        self.length = len(df) - x_size\n",
    "\n",
    "        num_samples = (self.length - enc_seq_len - target_seq_len) // stride + 1 #stride씩 움직일 때 생기는 총 sample 개수\n",
    "        \n",
    "        src_v = np.zeros([enc_seq_len, num_samples])\n",
    "        src_c = np.zeros([enc_seq_len, num_samples])\n",
    "        trg = np.zeros([target_seq_len, num_samples])\n",
    "\n",
    "\n",
    "        for i in np.arange(num_samples):\n",
    "            start_x = stride*i\n",
    "            end_x = start_x + enc_seq_len\n",
    "            src_v[:,i] = self.src_v[start_x:end_x]\n",
    "            src_c[:,i] = self.src_c[start_x:end_x]\n",
    "\n",
    "            start_y = stride*i + enc_seq_len\n",
    "            end_y = start_y + target_seq_len\n",
    "            trg[:,i] = self.soc[start_y:end_y]\n",
    "\n",
    "        src_v = src_v.reshape(src_v.shape[0], src_v.shape[1], 1).transpose((1,0,2))\n",
    "        src_c = src_c.reshape(src_c.shape[0], src_c.shape[1], 1).transpose((1,0,2))\n",
    "        trg = trg.reshape(trg.shape[0], trg.shape[1], 1).transpose((1,0,2))\n",
    "\n",
    "        self.src_v = src_v\n",
    "        self.src_c = src_c\n",
    "        self.trg = trg\n",
    "\n",
    "        self.len = len(src_v)\n",
    "\n",
    "    def __getitem__(self, i):\n",
    "        return self.src_v[i], self.src_c[i], self.trg[i, :-1], self.trg[i, 1:]\n",
    "    \n",
    "    def __len__(self):\n",
    "        return self.len"
   ]
  },
  {
   "cell_type": "code",
   "execution_count": 3,
   "metadata": {},
   "outputs": [],
   "source": [
    "# class StrideDataset_2(Dataset):\n",
    "#     def __init__(self, file_path, enc_seq_len, target_seq_len, x_size, stride=5):\n",
    "#         df = pd.read_csv(file_path)\n",
    "        \n",
    "#         self.data = df.iloc[x_size:, 13:14].values #SoC\n",
    "#         self.data = self.data.squeeze()\n",
    "\n",
    "#         self.length = len(df) - x_size\n",
    "\n",
    "#         num_samples = (self.length - enc_seq_len - target_seq_len) // stride + 1 #stride씩 움직일 때 생기는 총 sample 개수\n",
    "        \n",
    "#         src = np.zeros([enc_seq_len, num_samples])\n",
    "#         trg = np.zeros([target_seq_len, num_samples])\n",
    "\n",
    "\n",
    "#         for i in np.arange(num_samples):\n",
    "#             start_x = stride*i\n",
    "#             end_x = start_x + enc_seq_len\n",
    "#             src[:,i] = self.data[start_x:end_x]\n",
    "\n",
    "#             start_y = stride*i + enc_seq_len\n",
    "#             end_y = start_y + target_seq_len\n",
    "#             trg[:,i] = self.data[start_y:end_y]\n",
    "\n",
    "#         src = src.reshape(src.shape[0], src.shape[1], 1).transpose((1,0,2))\n",
    "#         trg = trg.reshape(trg.shape[0], trg.shape[1], 1).transpose((1,0,2))\n",
    "#         self.src = src\n",
    "#         self.trg = trg\n",
    "\n",
    "#         self.len = len(src)\n",
    "\n",
    "#     def __getitem__(self, i):\n",
    "#         return self.src[i], self.trg[i, :-1], self.trg[i, 1:]\n",
    "    \n",
    "#     def __len__(self):\n",
    "#         return self.len"
   ]
  },
  {
   "cell_type": "code",
   "execution_count": 4,
   "metadata": {},
   "outputs": [],
   "source": [
    "class CustomDataset(Dataset):\n",
    "    def __init__(self, file_path, x_size):\n",
    "        df = pd.read_csv(file_path)\n",
    "        #print(df.isnull().sum())\n",
    "\n",
    "        self.x = df.iloc[x_size:, 6:10].values\n",
    "        #self.x = np.reshape(x, (x.shape[0], 1, x.shape[1]))\n",
    "        self.y = df.iloc[x_size:, 20:21].values\n",
    "        \n",
    "        self.length = len(df) - x_size\n",
    "\n",
    "    def __getitem__(self, index):\n",
    "        # x = torch.FloatTensor([self.x[index]])\n",
    "        # y = torch.FloatTensor([self.y[index]])\n",
    "        # return x, y\n",
    "        feature = torch.FloatTensor([self.x[index]])\n",
    "        label = torch.FloatTensor(self.y[index])\n",
    "\n",
    "        return feature, label\n",
    "\n",
    "    def __len__(self):\n",
    "        return self.length"
   ]
  },
  {
   "cell_type": "code",
   "execution_count": 5,
   "metadata": {},
   "outputs": [],
   "source": [
    "train_dataset_1 = StrideDataset(\"DST_80.csv\", 50, 20, 1919, stride=5)\n",
    "train_dataset_2 = StrideDataset(\"US06_80.csv\", 50, 20, 1207, stride=5)\n",
    "# train_dataset_2 = StrideDataset(\"FUDS_80.csv\", 50, 20, 2586, stride=5)\n",
    "\n",
    "train_dataset = torch.utils.data.ConcatDataset([train_dataset_1, train_dataset_2])\n",
    "# train_dataset = train_dataset_2\n",
    "\n",
    "\n",
    "train_dataloader = DataLoader(train_dataset, batch_size=257, shuffle=True, drop_last=True)\n",
    "# dataset_d = CustomDataset(\"DST_80.csv\", 1919)"
   ]
  },
  {
   "cell_type": "code",
   "execution_count": 6,
   "metadata": {},
   "outputs": [],
   "source": [
    "# plt.plot(train_dataset_1)\n",
    "# plt.show()\n",
    "# plt.plot(train_dataset.src_v.squeeze())\n",
    "# plt.show()\n",
    "# plt.plot(train_dataset.trg.squeeze())\n",
    "# plt.show()\n"
   ]
  },
  {
   "cell_type": "code",
   "execution_count": 7,
   "metadata": {},
   "outputs": [],
   "source": [
    "class TFModel(nn.Module):\n",
    "    def __init__(self, d_model, nhead, nhid, nlayers, dropout=0.5):\n",
    "        super(TFModel, self).__init__()\n",
    "\n",
    "        # self.transformer = Transformer(d_model=d_model, nhead=nhead, dim_feedforward=nhid, num_encoder_layers=nlayers, num_decoder_layers=nlayers,dropout=dropout)\n",
    "        \n",
    "        # self.linear = nn.Linear(d_model, 1)\n",
    "        # self.pos_encoder = PositionalEncoding(d_model, dropout)\n",
    "\n",
    "        # self.encoder = nn.Linear(1, d_model)\n",
    "\n",
    "        self.coder_in = nn.Linear(1,d_model)\n",
    "        \n",
    "        self.conv_in = nn.Sequential(\n",
    "            nn.Conv1d(1, 500, kernel_size=15),\n",
    "            nn.Softmax(dim=1),\n",
    "            nn.Linear(50-15+1, 50) #src-ker+1, src\n",
    "        )\n",
    "        \n",
    "        self.conv_in_dec = nn.Sequential(\n",
    "            nn.Conv1d(1,500,kernel_size=15),\n",
    "            nn.Softmax(dim=1),\n",
    "            nn.Linear(20-15, 20-1) #dec-ker, dec-1\n",
    "        )\n",
    "        \n",
    "        \n",
    "        self.conv_out = nn.Sequential(\n",
    "            nn.Conv1d(500,50,kernel_size=5,stride=3),\n",
    "            #nn.ReLU(),\n",
    "            nn.Conv1d(50,1,kernel_size=3,stride=1),\n",
    "            #nn.ReLU(),\n",
    "            nn.Linear(3,30),\n",
    "            #nn.ReLU(),\n",
    "            nn.Linear(30,19)\n",
    "        )\n",
    "\n",
    "        self.coder_pos = PositionalEncoding(d_model, dropout)\n",
    "\n",
    "        self.encoder_layer = nn.TransformerEncoderLayer(d_model=d_model, nhead=nhead, dropout=dropout)\n",
    "        self.transformer_encoder = nn.TransformerEncoder(self.encoder_layer, num_layers=nlayers)\n",
    "\n",
    "        self.con_lin = nn.Linear(d_model*2, d_model)\n",
    "\n",
    "        self.decoder_layer = nn.TransformerDecoderLayer(d_model=d_model, nhead=nhead, dropout=dropout)\n",
    "        self.transformer_decoder = nn.TransformerDecoder(self.decoder_layer, num_layers=nlayers) #(target, memory) // memort->인코더에서 나온 컨텍스트벡터?\n",
    "        \n",
    "        self.linear = nn.Sequential(\n",
    "            nn.Linear(d_model, 1)\n",
    "        )\n",
    "        self.linear_in = nn.Linear(1, d_model)\n",
    "        \n",
    "\n",
    "    def generate_square_subsequent_mask(self, sz):\n",
    "        mask = (torch.triu(torch.ones(sz, sz)) == 1).transpose(0, 1)\n",
    "        mask = mask.float().masked_fill(mask == 0, float('-inf')).masked_fill(mask == 1, float(0.0))\n",
    "        return mask\n",
    "\n",
    "    #def forward(self, src, tgt, srcmask, tgtmask):\n",
    "    def forward(self, src_v, src_c, tgt_s, srcmask, tgtmask):\n",
    "        # src_v = self.coder_in(src_v)\n",
    "        src_v = self.conv_in(src_v.transpose(2,1)).transpose(2,1)\n",
    "        src_v = self.coder_pos(src_v)\n",
    "\n",
    "        # src_c = self.coder_in(src_c)\n",
    "        src_c = self.conv_in(src_c.transpose(2,1)).transpose(2,1)\n",
    "        src_c = self.coder_pos(src_c)\n",
    "\n",
    "        # print(src_v.shape)\n",
    "        # con_v = self.transformer_encoder(src_v.transpose(0,1), srcmask).transpose(0,1)  #-> 그냥\n",
    "        con_v = self.transformer_encoder(src_v.transpose(0,1), srcmask) #-> 인코더 ff 1dcnn\n",
    "        # print(con_v.shape)\n",
    "        # con_c = self.transformer_encoder(src_c.transpose(0,1), srcmask).transpose(0,1)\n",
    "        con_c = self.transformer_encoder(src_c.transpose(0,1), srcmask)\n",
    "        \n",
    "        #print(con_v.shape)\n",
    "        #print(con_c.shape)\n",
    "        \n",
    "\n",
    "        con = torch.cat((con_v, con_c), dim=2)\n",
    "        #print(con.shape)\n",
    "        \n",
    "        con = self.con_lin(con)\n",
    "        #print(con.shape)\n",
    "        \n",
    "        \n",
    "        #print(tgt_s.shape)\n",
    "        tgt_s = self.coder_in(tgt_s)\n",
    "        # tgt_s = self.conv_in_dec(tgt_s.transpose(2,1)).transpose(2,1)\n",
    "        tgt_s = self.coder_pos(tgt_s)\n",
    "        \n",
    "        \n",
    "        # tgt = self.transformer_decoder(tgt_s.transpose(0,1), con.transpose(0,1)).transpose(0,1)\n",
    "        tgt = self.transformer_decoder(tgt_s.transpose(0,1), con.transpose(0,1)).transpose(0,1)\n",
    "        # print(tgt.shape)\n",
    "        tgt = self.linear(tgt)\n",
    "        #tgt = self.conv_out(tgt.transpose(2,1)).transpose(2,1)\n",
    "        # print(tgt.shape)\n",
    "\n",
    "        return tgt\n",
    "\n",
    "class PositionalEncoding(nn.Module):\n",
    "    def __init__(self, d_model, dropout=0.1, max_len=5000):\n",
    "        super(PositionalEncoding, self).__init__()\n",
    "        self.dropout = nn.Dropout(p=dropout)\n",
    "\n",
    "        pe = torch.zeros(max_len, d_model)\n",
    "        position = torch.arange(0, max_len, dtype=torch.float).unsqueeze(1)\n",
    "        div_term = torch.exp(torch.arange(0, d_model, 2).float() * (-math.log(10000.0) / d_model))\n",
    "        pe[:, 0::2] = torch.sin(position * div_term)\n",
    "        pe[:, 1::2] = torch.cos(position * div_term)\n",
    "        pe = pe.unsqueeze(0).transpose(0, 1)\n",
    "        self.register_buffer('pe', pe)\n",
    "\n",
    "    def forward(self, x):\n",
    "        x = x + self.pe[:x.size(0), :]\n",
    "        return self.dropout(x)\n",
    "\n",
    "def gen_attention_mask(x):\n",
    "    mask = torch.eq(x, 0)\n",
    "    return mask"
   ]
  },
  {
   "cell_type": "code",
   "execution_count": null,
   "metadata": {},
   "outputs": [],
   "source": []
  },
  {
   "cell_type": "code",
   "execution_count": 8,
   "metadata": {},
   "outputs": [],
   "source": [
    "lr = 0.00003\n",
    "model = TFModel(500, 10, 256, 4, 0.1).to(device)\n",
    "criterion = nn.MSELoss()\n",
    "optimizer = torch.optim.AdamW(model.parameters(), lr=lr)"
   ]
  },
  {
   "cell_type": "code",
   "execution_count": 4,
   "metadata": {},
   "outputs": [
    {
     "ename": "NameError",
     "evalue": "name 'model' is not defined",
     "output_type": "error",
     "traceback": [
      "\u001b[1;31m---------------------------------------------------------------------------\u001b[0m",
      "\u001b[1;31mNameError\u001b[0m                                 Traceback (most recent call last)",
      "\u001b[1;32mc:\\Users\\user\\Documents\\GitHub\\HoHo\\SOC_tf_0811\\new_prac_tf(mul_data)(plan_1)(v,c)(1dcnn)(kalman)(ff_1dcnn).ipynb 셀 10\u001b[0m line \u001b[0;36m2\n\u001b[0;32m      <a href='vscode-notebook-cell:/c%3A/Users/user/Documents/GitHub/HoHo/SOC_tf_0811/new_prac_tf%28mul_data%29%28plan_1%29%28v%2Cc%29%281dcnn%29%28kalman%29%28ff_1dcnn%29.ipynb#X12sZmlsZQ%3D%3D?line=0'>1</a>\u001b[0m epoch \u001b[39m=\u001b[39m \u001b[39m100\u001b[39m\n\u001b[1;32m----> <a href='vscode-notebook-cell:/c%3A/Users/user/Documents/GitHub/HoHo/SOC_tf_0811/new_prac_tf%28mul_data%29%28plan_1%29%28v%2Cc%29%281dcnn%29%28kalman%29%28ff_1dcnn%29.ipynb#X12sZmlsZQ%3D%3D?line=1'>2</a>\u001b[0m model\u001b[39m.\u001b[39mtrain()\n\u001b[0;32m      <a href='vscode-notebook-cell:/c%3A/Users/user/Documents/GitHub/HoHo/SOC_tf_0811/new_prac_tf%28mul_data%29%28plan_1%29%28v%2Cc%29%281dcnn%29%28kalman%29%28ff_1dcnn%29.ipynb#X12sZmlsZQ%3D%3D?line=2'>3</a>\u001b[0m progress \u001b[39m=\u001b[39m tqdm(\u001b[39mrange\u001b[39m(epoch))\n\u001b[0;32m      <a href='vscode-notebook-cell:/c%3A/Users/user/Documents/GitHub/HoHo/SOC_tf_0811/new_prac_tf%28mul_data%29%28plan_1%29%28v%2Cc%29%281dcnn%29%28kalman%29%28ff_1dcnn%29.ipynb#X12sZmlsZQ%3D%3D?line=4'>5</a>\u001b[0m loss_arr \u001b[39m=\u001b[39m \u001b[39mlist\u001b[39m()\n",
      "\u001b[1;31mNameError\u001b[0m: name 'model' is not defined"
     ]
    },
    {
     "ename": "",
     "evalue": "",
     "output_type": "error",
     "traceback": [
      "\u001b[1;31m현재 셀 또는 이전 셀에서 코드를 실행하는 동안 Kernel이 충돌했습니다. 셀의 코드를 검토하여 오류의 가능한 원인을 식별하세요. 자세한 내용을 보려면 <a href='https://aka.ms/vscodeJupyterKernelCrash'> 여기 </a> 를 클릭하세요. 자세한 내용은 Jupyter <a href='command:jupyter.viewOutput'>로그</a>를 참조하세요."
     ]
    }
   ],
   "source": [
    "epoch = 100\n",
    "model.train()\n",
    "progress = tqdm(range(epoch))\n",
    "\n",
    "loss_arr = list()\n",
    "\n",
    "\n",
    "for i in progress:\n",
    "    batchloss = 0.0\n",
    "    for (inputs_v, inputs_c, dec_inputs, outputs) in train_dataloader:\n",
    "        optimizer.zero_grad()\n",
    "        #print(inputs_v.shape[1])\n",
    "        src_mask = model.generate_square_subsequent_mask(inputs_v.shape[1]).to(device)\n",
    "        #print(dec_inputs.shape[1])\n",
    "        tgt_mask = model.generate_square_subsequent_mask(dec_inputs.shape[1]).to(device)\n",
    "        \n",
    "        result = model(inputs_v.float().to(device), inputs_c.float().to(device), dec_inputs.float().to(device), src_mask, tgt_mask)\n",
    "        \n",
    "        #loss = criterion(result.permute(1,0,2), outputs.float().to(device))\n",
    "        loss = criterion(result, outputs.float().to(device))\n",
    "        \n",
    "        \n",
    "        loss.backward()\n",
    "        optimizer.step()\n",
    "        batchloss += loss\n",
    "    \n",
    "        \n",
    "    loss_arr.append((batchloss.cpu().item() / len(train_dataloader)))\n",
    "    progress.set_description(\"loss: {:0.6f}\".format(batchloss.cpu().item() / len(train_dataloader)))\n",
    "\n",
    "\n",
    "\n",
    "\n",
    "    # for i in progress:\n",
    "    # batchloss = 0.0\n",
    "\n",
    "    # for (inputs, tgt, tgt_y) in train_dataloader:\n",
    "    #     optimizer.zero_grad()\n",
    "\n",
    "    #     result = model(src.float().to(device), tgt.float().to(device), src_mask, tgt_mask)\n",
    "    #     loss = loss_func(result, tgt_y.float().to(device))\n",
    "\n",
    "    #     loss.backward()\n",
    "    #     optimizer.step()\n",
    "    #     batchloss += loss\n",
    "    \n",
    "    # progress.set_description(\"{:0.5f}\".format(batchloss.cpu().item() / len(train_dataloader)))#??"
   ]
  },
  {
   "cell_type": "code",
   "execution_count": 10,
   "metadata": {},
   "outputs": [
    {
     "name": "stdout",
     "output_type": "stream",
     "text": [
      "output_size: torch.Size([257, 500, 50])\n"
     ]
    }
   ],
   "source": [
    "import torch\n",
    "import torch.nn as nn\n",
    "\n",
    "batch_size = 3\n",
    "feature_dim = 256\n",
    "time_step = 16000\n",
    "\n",
    "x = torch.rand(257, 500, 50)\n",
    "\n",
    "conv1d = nn.Conv1d(500, 700, kernel_size=7, stride=5)\n",
    "conv1d_2 = nn.Conv1d(700,700, kernel_size=5, stride=3)\n",
    "li1 = nn.Linear(700,500)\n",
    "li2 = nn.Linear(2,50)\n",
    "\n",
    "out = conv1d(x)\n",
    "out = conv1d_2(out)\n",
    "out = li2(out)\n",
    "out = li1(out.transpose(1,2)).transpose(1,2)\n",
    "\n",
    "print('output_size:',out.shape)"
   ]
  },
  {
   "cell_type": "code",
   "execution_count": 11,
   "metadata": {},
   "outputs": [
    {
     "name": "stdout",
     "output_type": "stream",
     "text": [
      "output_size: torch.Size([257, 500, 50])\n"
     ]
    }
   ],
   "source": [
    "x = torch.rand(257, 500, 19)\n",
    "\n",
    "conv1d = nn.Conv1d(500, 700, kernel_size=5, stride=3)\n",
    "conv1d_2 = nn.Conv1d(700,700, kernel_size=3, stride=1)\n",
    "li1 = nn.Linear(700,500)\n",
    "li2 = nn.Linear(3,50)\n",
    "\n",
    "out = conv1d(x)\n",
    "out = conv1d_2(out)\n",
    "out = li2(out)\n",
    "out = li1(out.transpose(1,2)).transpose(1,2)\n",
    "\n",
    "print('output_size:',out.shape)"
   ]
  },
  {
   "cell_type": "code",
   "execution_count": 12,
   "metadata": {},
   "outputs": [
    {
     "name": "stdout",
     "output_type": "stream",
     "text": [
      "output_size: torch.Size([257, 1, 19])\n"
     ]
    }
   ],
   "source": [
    "import torch\n",
    "import torch.nn as nn\n",
    "x = torch.rand(257, 500, 19)\n",
    "\n",
    "conv1d = nn.Conv1d(500, 50, kernel_size=5, stride=3)\n",
    "conv1d_2 = nn.Conv1d(50,1, kernel_size=3, stride=1)\n",
    "li1 = nn.Linear(3,30)\n",
    "li2 = nn.Linear(30,19)\n",
    "\n",
    "out = conv1d(x)\n",
    "out = conv1d_2(out)\n",
    "out = li1(out)\n",
    "out = li2(out)\n",
    "\n",
    "print('output_size:',out.shape)"
   ]
  },
  {
   "cell_type": "code",
   "execution_count": 13,
   "metadata": {},
   "outputs": [
    {
     "data": {
      "text/plain": [
       "[<matplotlib.lines.Line2D at 0x2cbee798310>]"
      ]
     },
     "execution_count": 13,
     "metadata": {},
     "output_type": "execute_result"
    },
    {
     "data": {
      "image/png": "[encoded data removed]",
      "text/plain": [
       "<Figure size 640x480 with 1 Axes>"
      ]
     },
     "metadata": {},
     "output_type": "display_data"
    }
   ],
   "source": [
    "plt.plot(loss_arr, label=\"loss\")\n",
    "# print(loss_arr[1500])\n",
    "# print(loss_arr[2400])\n"
   ]
  },
  {
   "cell_type": "code",
   "execution_count": 56,
   "metadata": {},
   "outputs": [],
   "source": [
    "# eval_dataset = StrideDataset(\"FUDS_80.csv\", 50, 20, 2586, stride=1)\n",
    "eval_dataset = StrideDataset(\"BJDST_80.csv\", 50, 20, 1226, stride=1)\n",
    "# eval_dataset = StrideDataset(\"DST_80.csv\", 50, 20, 1919, stride=1)\n",
    "eval_dataloader = DataLoader(eval_dataset, batch_size=257, shuffle=False, drop_last=False)\n",
    "\n",
    "# \n",
    "# dataset_d = CustomDataset(\"FUDS_80.csv\", 2586)\n",
    "dataset_d = CustomDataset(\"BJDST_80.csv\", 1226)\n",
    "# dataset_d = CustomDataset(\"DST_80.csv\", 1919)"
   ]
  },
  {
   "cell_type": "code",
   "execution_count": 57,
   "metadata": {},
   "outputs": [
    {
     "data": {
      "text/plain": [
       "[<matplotlib.lines.Line2D at 0x2cc8637fdf0>]"
      ]
     },
     "execution_count": 57,
     "metadata": {},
     "output_type": "execute_result"
    },
    {
     "data": {
      "image/png": "[encoded data removed]",
      "text/plain": [
       "<Figure size 640x480 with 1 Axes>"
      ]
     },
     "metadata": {},
     "output_type": "display_data"
    }
   ],
   "source": [
    "plt.plot(dataset_d.y)"
   ]
  },
  {
   "cell_type": "code",
   "execution_count": 58,
   "metadata": {},
   "outputs": [
    {
     "name": "stdout",
     "output_type": "stream",
     "text": [
      "torch.Size([11142])\n",
      "(11211, 1)\n"
     ]
    }
   ],
   "source": [
    "model.eval()\n",
    "\n",
    "predictions = torch.Tensor(0)\n",
    "actual = torch.Tensor(0)\n",
    "\n",
    "with torch.no_grad():\n",
    "    for (inputs_v, inputs_c, dec_inputs, outputs) in eval_dataloader:\n",
    "        src_mask = model.generate_square_subsequent_mask(inputs_v.shape[1]).to(device)\n",
    "        tgt_mask = model.generate_square_subsequent_mask(dec_inputs.shape[1]).to(device)\n",
    "        \n",
    "        output = model(inputs_v.float().to(device), inputs_c.float().to(device), dec_inputs.float().to(device), src_mask, tgt_mask)\n",
    "        output = output.permute(1,0,2)\n",
    "        \n",
    "        predictions = torch.cat((predictions, output[-1].view(-1).cpu()), 0) # view(-1) => 1차원으로 바꾼다 생각\n",
    "        actual = torch.cat((actual, outputs[-1].view(-1).cpu()), 0)\n",
    "\n",
    "\n",
    "print(predictions.shape)\n",
    "print(dataset_d.y.shape)"
   ]
  },
  {
   "cell_type": "code",
   "execution_count": 59,
   "metadata": {},
   "outputs": [],
   "source": [
    "predictions = predictions * 80.0"
   ]
  },
  {
   "cell_type": "code",
   "execution_count": 60,
   "metadata": {},
   "outputs": [],
   "source": [
    "#predictions = mm_scaler.inverse_transform(predictions.reshape(-1,1))"
   ]
  },
  {
   "cell_type": "markdown",
   "metadata": {},
   "source": []
  },
  {
   "cell_type": "code",
   "execution_count": null,
   "metadata": {},
   "outputs": [],
   "source": []
  },
  {
   "cell_type": "code",
   "execution_count": 61,
   "metadata": {},
   "outputs": [
    {
     "data": {
      "text/plain": [
       "[<matplotlib.lines.Line2D at 0x2cca10fa320>]"
      ]
     },
     "execution_count": 61,
     "metadata": {},
     "output_type": "execute_result"
    },
    {
     "data": {
      "image/png": "[encoded data removed]",
      "text/plain": [
       "<Figure size 640x480 with 1 Axes>"
      ]
     },
     "metadata": {},
     "output_type": "display_data"
    }
   ],
   "source": [
    "#plt.plot(range(20000-639,20000),dataset_d.y[20000-639:], label=\"real\")\n",
    "plt.plot(predictions, label=\"predict\")\n",
    "#plt.plot(dataset_d.y, label=\"real\")\n",
    "#plt.xlim(0,2)\n",
    "\n",
    "\n",
    "# plt.legend()\n",
    "# plt.show()"
   ]
  },
  {
   "cell_type": "code",
   "execution_count": 3,
   "metadata": {},
   "outputs": [
    {
     "ename": "NameError",
     "evalue": "name 'plt' is not defined",
     "output_type": "error",
     "traceback": [
      "\u001b[1;31m---------------------------------------------------------------------------\u001b[0m",
      "\u001b[1;31mNameError\u001b[0m                                 Traceback (most recent call last)",
      "\u001b[1;32mc:\\Users\\user\\Documents\\GitHub\\HoHo\\SOC_tf_0811\\new_prac_tf(mul_data)(plan_1)(v,c)(1dcnn)(kalman)(ff_1dcnn).ipynb 셀 23\u001b[0m line \u001b[0;36m1\n\u001b[1;32m----> <a href='vscode-notebook-cell:/c%3A/Users/user/Documents/GitHub/HoHo/SOC_tf_0811/new_prac_tf%28mul_data%29%28plan_1%29%28v%2Cc%29%281dcnn%29%28kalman%29%28ff_1dcnn%29.ipynb#X31sZmlsZQ%3D%3D?line=0'>1</a>\u001b[0m plt\u001b[39m.\u001b[39mfigure(figsize\u001b[39m=\u001b[39m(\u001b[39m10\u001b[39m,\u001b[39m5\u001b[39m))\n\u001b[0;32m      <a href='vscode-notebook-cell:/c%3A/Users/user/Documents/GitHub/HoHo/SOC_tf_0811/new_prac_tf%28mul_data%29%28plan_1%29%28v%2Cc%29%281dcnn%29%28kalman%29%28ff_1dcnn%29.ipynb#X31sZmlsZQ%3D%3D?line=1'>2</a>\u001b[0m plt\u001b[39m.\u001b[39mplot(dataset_d\u001b[39m.\u001b[39my, color\u001b[39m=\u001b[39m\u001b[39m'\u001b[39m\u001b[39mred\u001b[39m\u001b[39m'\u001b[39m, alpha\u001b[39m=\u001b[39m\u001b[39m0.7\u001b[39m)\n\u001b[0;32m      <a href='vscode-notebook-cell:/c%3A/Users/user/Documents/GitHub/HoHo/SOC_tf_0811/new_prac_tf%28mul_data%29%28plan_1%29%28v%2Cc%29%281dcnn%29%28kalman%29%28ff_1dcnn%29.ipynb#X31sZmlsZQ%3D%3D?line=2'>3</a>\u001b[0m plt\u001b[39m.\u001b[39mplot(predictions, color\u001b[39m=\u001b[39m\u001b[39m'\u001b[39m\u001b[39mblue\u001b[39m\u001b[39m'\u001b[39m, linewidth\u001b[39m=\u001b[39m\u001b[39m0.7\u001b[39m)\n",
      "\u001b[1;31mNameError\u001b[0m: name 'plt' is not defined"
     ]
    }
   ],
   "source": [
    "plt.figure(figsize=(10,5))\n",
    "plt.plot(dataset_d.y, color='red', alpha=0.7)\n",
    "plt.plot(predictions, color='blue', linewidth=0.7)\n",
    "plt.title('Actual vs Forecast')\n",
    "plt.legend(['Actual', 'Forecast'])\n",
    "plt.xlabel('Time Steps')\n",
    "#plt.xlim([4500,5000])AA"
   ]
  },
  {
   "cell_type": "code",
   "execution_count": 63,
   "metadata": {},
   "outputs": [
    {
     "name": "stdout",
     "output_type": "stream",
     "text": [
      "(11211, 1)\n",
      "torch.Size([11142])\n",
      "mae :  0.33346027874711537\n",
      "mse :  0.17441532443582825\n",
      "rmse :  0.4176306076376925\n"
     ]
    }
   ],
   "source": [
    "from sklearn.metrics import mean_absolute_error, mean_squared_error\n",
    "\n",
    "print(dataset_d.y.shape)\n",
    "print(predictions.shape)\n",
    "\n",
    "print(\"mae : \", mean_absolute_error(dataset_d.y[:10000], predictions[:10000]))\n",
    "print(\"mse : \", mean_squared_error(dataset_d.y[:10000], predictions[:10000]))\n",
    "print(\"rmse : \", np.sqrt(mean_squared_error(dataset_d.y[:10000], predictions[:10000])))\n",
    "\n",
    "\n"
   ]
  },
  {
   "cell_type": "code",
   "execution_count": null,
   "metadata": {},
   "outputs": [],
   "source": [
    "n = len(predictions)\n",
    "k = np.arange(n)\n",
    "Fs = 1/0.0001\n",
    "T = n/Fs\n",
    "freq = k/T\n",
    "freq = freq[range(int(n/2))]"
   ]
  },
  {
   "cell_type": "code",
   "execution_count": 158,
   "metadata": {},
   "outputs": [],
   "source": [
    "Y1 = np.fft.fft(predictions)/n\n",
    "Y1 = Y1[range(int(n/2))]\n",
    "Y2 = np.fft.fft(dataset_d.y)/n\n",
    "Y2 = Y2[range(int(n/2))]\n",
    "\n",
    "Y3 = abs(Y2)-abs(Y1)"
   ]
  },
  {
   "cell_type": "code",
   "execution_count": 159,
   "metadata": {},
   "outputs": [
    {
     "name": "stderr",
     "output_type": "stream",
     "text": [
      "No artists with labels found to put in legend.  Note that artists whose label start with an underscore are ignored when legend() is called with no argument.\n"
     ]
    },
    {
     "data": {
      "text/plain": [
       "(0.0, 100.0)"
      ]
     },
     "execution_count": 159,
     "metadata": {},
     "output_type": "execute_result"
    },
    {
     "data": {
      "image/png": "[encoded data removed]",
      "text/plain": [
       "<Figure size 640x480 with 1 Axes>"
      ]
     },
     "metadata": {},
     "output_type": "display_data"
    }
   ],
   "source": [
    "plt.plot(freq, abs(Y1), 'b', linestyle=' ', marker='^')\n",
    "plt.plot(freq, abs(Y2), 'r', linestyle=' ', marker='^')\n",
    "plt.legend()\n",
    "plt.vlines(freq, [0],abs(Y1))\n",
    "plt.vlines(freq, [0],abs(Y2))\n",
    "plt.xlim([0, 100])\n",
    "# plt.plot(abs(Y))"
   ]
  },
  {
   "cell_type": "code",
   "execution_count": 160,
   "metadata": {},
   "outputs": [
    {
     "data": {
      "text/plain": [
       "array([ 4.01069480e+01-1.07518852e-15j,  3.48646801e-03-1.27569655e+01j,\n",
       "       -4.79460023e-02-6.37417130e+00j, ...,\n",
       "        3.66163830e-03-5.59279271e-06j,  3.66115723e-03-4.60971452e-06j,\n",
       "        3.66241906e-03-3.62330553e-06j])"
      ]
     },
     "execution_count": 160,
     "metadata": {},
     "output_type": "execute_result"
    }
   ],
   "source": [
    "Y1"
   ]
  },
  {
   "cell_type": "code",
   "execution_count": null,
   "metadata": {},
   "outputs": [
    {
     "ename": "ValueError",
     "evalue": "could not broadcast input array from shape (31036041,) into shape (5571,)",
     "output_type": "error",
     "traceback": [
      "\u001b[1;31m---------------------------------------------------------------------------\u001b[0m",
      "\u001b[1;31mValueError\u001b[0m                                Traceback (most recent call last)",
      "\u001b[1;32mc:\\Users\\user\\Documents\\GitHub\\HoHo\\SOC_tf_0811\\new_prac_tf(mul_data)(plan_1)(v,c)(1dcnn)(kalman)(ff_1dcnn).ipynb 셀 29\u001b[0m line \u001b[0;36m2\n\u001b[0;32m      <a href='vscode-notebook-cell:/c%3A/Users/user/Documents/GitHub/HoHo/SOC_tf_0811/new_prac_tf%28mul_data%29%28plan_1%29%28v%2Cc%29%281dcnn%29%28kalman%29%28ff_1dcnn%29.ipynb#Y123sZmlsZQ%3D%3D?line=0'>1</a>\u001b[0m plt\u001b[39m.\u001b[39mplot(freq, \u001b[39mabs\u001b[39m(Y3), \u001b[39m'\u001b[39m\u001b[39mg\u001b[39m\u001b[39m'\u001b[39m, linestyle\u001b[39m=\u001b[39m\u001b[39m'\u001b[39m\u001b[39m \u001b[39m\u001b[39m'\u001b[39m, marker\u001b[39m=\u001b[39m\u001b[39m'\u001b[39m\u001b[39m^\u001b[39m\u001b[39m'\u001b[39m)\n\u001b[1;32m----> <a href='vscode-notebook-cell:/c%3A/Users/user/Documents/GitHub/HoHo/SOC_tf_0811/new_prac_tf%28mul_data%29%28plan_1%29%28v%2Cc%29%281dcnn%29%28kalman%29%28ff_1dcnn%29.ipynb#Y123sZmlsZQ%3D%3D?line=1'>2</a>\u001b[0m plt\u001b[39m.\u001b[39;49mvlines(freq, [\u001b[39m0\u001b[39;49m],\u001b[39mabs\u001b[39;49m(Y3))\n\u001b[0;32m      <a href='vscode-notebook-cell:/c%3A/Users/user/Documents/GitHub/HoHo/SOC_tf_0811/new_prac_tf%28mul_data%29%28plan_1%29%28v%2Cc%29%281dcnn%29%28kalman%29%28ff_1dcnn%29.ipynb#Y123sZmlsZQ%3D%3D?line=2'>3</a>\u001b[0m plt\u001b[39m.\u001b[39mxlim([\u001b[39m0\u001b[39m, \u001b[39m100\u001b[39m])\n",
      "File \u001b[1;32mc:\\Users\\user\\AppData\\Local\\Programs\\Python\\Python310\\lib\\site-packages\\matplotlib\\pyplot.py:2986\u001b[0m, in \u001b[0;36mvlines\u001b[1;34m(x, ymin, ymax, colors, linestyles, label, data, **kwargs)\u001b[0m\n\u001b[0;32m   2982\u001b[0m \u001b[39m@_copy_docstring_and_deprecators\u001b[39m(Axes\u001b[39m.\u001b[39mvlines)\n\u001b[0;32m   2983\u001b[0m \u001b[39mdef\u001b[39;00m \u001b[39mvlines\u001b[39m(\n\u001b[0;32m   2984\u001b[0m         x, ymin, ymax, colors\u001b[39m=\u001b[39m\u001b[39mNone\u001b[39;00m, linestyles\u001b[39m=\u001b[39m\u001b[39m'\u001b[39m\u001b[39msolid\u001b[39m\u001b[39m'\u001b[39m, label\u001b[39m=\u001b[39m\u001b[39m'\u001b[39m\u001b[39m'\u001b[39m, \u001b[39m*\u001b[39m,\n\u001b[0;32m   2985\u001b[0m         data\u001b[39m=\u001b[39m\u001b[39mNone\u001b[39;00m, \u001b[39m*\u001b[39m\u001b[39m*\u001b[39mkwargs):\n\u001b[1;32m-> 2986\u001b[0m     \u001b[39mreturn\u001b[39;00m gca()\u001b[39m.\u001b[39mvlines(\n\u001b[0;32m   2987\u001b[0m         x, ymin, ymax, colors\u001b[39m=\u001b[39mcolors, linestyles\u001b[39m=\u001b[39mlinestyles,\n\u001b[0;32m   2988\u001b[0m         label\u001b[39m=\u001b[39mlabel, \u001b[39m*\u001b[39m\u001b[39m*\u001b[39m({\u001b[39m\"\u001b[39m\u001b[39mdata\u001b[39m\u001b[39m\"\u001b[39m: data} \u001b[39mif\u001b[39;00m data \u001b[39mis\u001b[39;00m \u001b[39mnot\u001b[39;00m \u001b[39mNone\u001b[39;00m \u001b[39melse\u001b[39;00m {}),\n\u001b[0;32m   2989\u001b[0m         \u001b[39m*\u001b[39m\u001b[39m*\u001b[39mkwargs)\n",
      "File \u001b[1;32mc:\\Users\\user\\AppData\\Local\\Programs\\Python\\Python310\\lib\\site-packages\\matplotlib\\__init__.py:1423\u001b[0m, in \u001b[0;36m_preprocess_data.<locals>.inner\u001b[1;34m(ax, data, *args, **kwargs)\u001b[0m\n\u001b[0;32m   1420\u001b[0m \u001b[39m@functools\u001b[39m\u001b[39m.\u001b[39mwraps(func)\n\u001b[0;32m   1421\u001b[0m \u001b[39mdef\u001b[39;00m \u001b[39minner\u001b[39m(ax, \u001b[39m*\u001b[39margs, data\u001b[39m=\u001b[39m\u001b[39mNone\u001b[39;00m, \u001b[39m*\u001b[39m\u001b[39m*\u001b[39mkwargs):\n\u001b[0;32m   1422\u001b[0m     \u001b[39mif\u001b[39;00m data \u001b[39mis\u001b[39;00m \u001b[39mNone\u001b[39;00m:\n\u001b[1;32m-> 1423\u001b[0m         \u001b[39mreturn\u001b[39;00m func(ax, \u001b[39m*\u001b[39m\u001b[39mmap\u001b[39m(sanitize_sequence, args), \u001b[39m*\u001b[39m\u001b[39m*\u001b[39mkwargs)\n\u001b[0;32m   1425\u001b[0m     bound \u001b[39m=\u001b[39m new_sig\u001b[39m.\u001b[39mbind(ax, \u001b[39m*\u001b[39margs, \u001b[39m*\u001b[39m\u001b[39m*\u001b[39mkwargs)\n\u001b[0;32m   1426\u001b[0m     auto_label \u001b[39m=\u001b[39m (bound\u001b[39m.\u001b[39marguments\u001b[39m.\u001b[39mget(label_namer)\n\u001b[0;32m   1427\u001b[0m                   \u001b[39mor\u001b[39;00m bound\u001b[39m.\u001b[39mkwargs\u001b[39m.\u001b[39mget(label_namer))\n",
      "File \u001b[1;32mc:\\Users\\user\\AppData\\Local\\Programs\\Python\\Python310\\lib\\site-packages\\matplotlib\\axes\\_axes.py:1161\u001b[0m, in \u001b[0;36mAxes.vlines\u001b[1;34m(self, x, ymin, ymax, colors, linestyles, label, **kwargs)\u001b[0m\n\u001b[0;32m   1159\u001b[0m masked_verts[:, \u001b[39m0\u001b[39m, \u001b[39m1\u001b[39m] \u001b[39m=\u001b[39m ymin\n\u001b[0;32m   1160\u001b[0m masked_verts[:, \u001b[39m1\u001b[39m, \u001b[39m0\u001b[39m] \u001b[39m=\u001b[39m x\n\u001b[1;32m-> 1161\u001b[0m masked_verts[:, \u001b[39m1\u001b[39;49m, \u001b[39m1\u001b[39;49m] \u001b[39m=\u001b[39m ymax\n\u001b[0;32m   1163\u001b[0m lines \u001b[39m=\u001b[39m mcoll\u001b[39m.\u001b[39mLineCollection(masked_verts, colors\u001b[39m=\u001b[39mcolors,\n\u001b[0;32m   1164\u001b[0m                              linestyles\u001b[39m=\u001b[39mlinestyles, label\u001b[39m=\u001b[39mlabel)\n\u001b[0;32m   1165\u001b[0m \u001b[39mself\u001b[39m\u001b[39m.\u001b[39madd_collection(lines, autolim\u001b[39m=\u001b[39m\u001b[39mFalse\u001b[39;00m)\n",
      "File \u001b[1;32mc:\\Users\\user\\AppData\\Local\\Programs\\Python\\Python310\\lib\\site-packages\\numpy\\ma\\core.py:3377\u001b[0m, in \u001b[0;36mMaskedArray.__setitem__\u001b[1;34m(self, indx, value)\u001b[0m\n\u001b[0;32m   3374\u001b[0m     mval \u001b[39m=\u001b[39m \u001b[39mtuple\u001b[39m([\u001b[39mFalse\u001b[39;00m] \u001b[39m*\u001b[39m \u001b[39mlen\u001b[39m(_dtype\u001b[39m.\u001b[39mnames))\n\u001b[0;32m   3375\u001b[0m \u001b[39mif\u001b[39;00m _mask \u001b[39mis\u001b[39;00m nomask:\n\u001b[0;32m   3376\u001b[0m     \u001b[39m# Set the data, then the mask\u001b[39;00m\n\u001b[1;32m-> 3377\u001b[0m     _data[indx] \u001b[39m=\u001b[39m dval\n\u001b[0;32m   3378\u001b[0m     \u001b[39mif\u001b[39;00m mval \u001b[39mis\u001b[39;00m \u001b[39mnot\u001b[39;00m nomask:\n\u001b[0;32m   3379\u001b[0m         _mask \u001b[39m=\u001b[39m \u001b[39mself\u001b[39m\u001b[39m.\u001b[39m_mask \u001b[39m=\u001b[39m make_mask_none(\u001b[39mself\u001b[39m\u001b[39m.\u001b[39mshape, _dtype)\n",
      "\u001b[1;31mValueError\u001b[0m: could not broadcast input array from shape (31036041,) into shape (5571,)"
     ]
    },
    {
     "ename": "",
     "evalue": "",
     "output_type": "error",
     "traceback": [
      "\u001b[1;31m현재 셀 또는 이전 셀에서 코드를 실행하는 동안 Kernel이 충돌했습니다. 셀의 코드를 검토하여 오류의 가능한 원인을 식별하세요. 자세한 내용을 보려면 <a href='https://aka.ms/vscodeJupyterKernelCrash'> 여기 </a> 를 클릭하세요. 자세한 내용은 Jupyter <a href='command:jupyter.viewOutput'>로그</a>를 참조하세요."
     ]
    }
   ],
   "source": [
    "plt.plot(freq, abs(Y3), 'g', linestyle=' ', marker='^')\n",
    "plt.vlines(freq, [0],abs(Y3))\n",
    "plt.xlim([0, 100])\n"
   ]
  },
  {
   "cell_type": "code",
   "execution_count": 64,
   "metadata": {},
   "outputs": [],
   "source": [
    "class CustomDataset2(Dataset):\n",
    "    def __init__(self, file_path, x_size):\n",
    "        df = pd.read_csv(file_path)\n",
    "        #print(df.isnull().sum())\n",
    "\n",
    "        self.I = df.iloc[x_size:, 6:7].values\n",
    "        #self.x = np.reshape(x, (x.shape[0], 1, x.shape[1]))\n",
    "        # self.y = df.iloc[x_size:, 13:14].values\n",
    "        \n",
    "        self.length = len(df) - x_size\n",
    "\n",
    "    #getitem이거 왜씀?\n",
    "    def __getitem__(self, index):\n",
    "        # x = torch.FloatTensor([self.x[index]])\n",
    "        # y = torch.FloatTensor([self.y[index]])\n",
    "        # return x, y\n",
    "        feature = torch.FloatTensor([self.x[index]])\n",
    "        # label = torch.FloatTensor(self.y[index])\n",
    "\n",
    "        return feature\n",
    "\n",
    "    def __len__(self):\n",
    "        return self.length"
   ]
  },
  {
   "cell_type": "code",
   "execution_count": 65,
   "metadata": {},
   "outputs": [],
   "source": [
    "# A = 1\n",
    "\n",
    "# dataset_d2 = CustomDataset2(\"US06_80.csv\", 1207)\n",
    "\n",
    "# dataset_d2.I\n",
    "\n",
    "# # test = np.zeros(10690)\n",
    "\n",
    "# # test = dataset_d2.I// 1.648484097\n",
    "\n",
    "# # plt.plot(test)\n",
    "\n",
    "# def fx(x_esti, idx):\n",
    "#     # return A * x_esti + (dataset_d2.I[idx]*(1/44.72) / (1.648484097)) \n",
    "#     return x_esti + (dataset_d2.I[idx]*100*(1.007922) / (1.648484097*3600/0.8)) \n",
    "\n",
    "\n",
    "\n",
    "# soc_func = np.zeros(10690)\n",
    "\n",
    "# x_esti = None\n",
    "# for i in range(10690):\n",
    "#     if i == 0:\n",
    "#         x_esti = 80\n",
    "#     else:\n",
    "#         x_esti = fx(x_esti, i)\n",
    "        \n",
    "#     soc_func[i] = x_esti\n",
    "    \n"
   ]
  },
  {
   "cell_type": "code",
   "execution_count": 66,
   "metadata": {},
   "outputs": [],
   "source": [
    "# soc_func[10680:10690]"
   ]
  },
  {
   "cell_type": "code",
   "execution_count": 67,
   "metadata": {},
   "outputs": [],
   "source": [
    "# plt.figure(figsize=(10,10))\n",
    "# plt.plot(soc_func, label='Measurements(model soc)')\n",
    "# plt.plot(dataset_d.y, color='red', alpha=0.7)\n",
    "# plt.legend(['Actual', 'coulomb counting'])\n",
    "\n",
    "# # # plt.xlim(0,200)\n",
    "# # plt.ylim(0,100)"
   ]
  },
  {
   "cell_type": "code",
   "execution_count": 68,
   "metadata": {},
   "outputs": [],
   "source": [
    "# from sklearn.metrics import mean_absolute_error \n",
    "\n",
    "# print(dataset_d.y.shape)\n",
    "# print(predictions.shape)\n",
    "\n",
    "# mean_absolute_error(dataset_d.y[:10000], soc_func[:10000])"
   ]
  },
  {
   "cell_type": "markdown",
   "metadata": {},
   "source": [
    "칼만필터 적용 (전류적산 / 모델 예측)"
   ]
  },
  {
   "cell_type": "code",
   "execution_count": 69,
   "metadata": {},
   "outputs": [],
   "source": [
    "# def kalman_filter(z_meas, x_esti, P):\n",
    "#     \"\"\"Kalman Filter Algorithm for One Variable.\"\"\"\n",
    "#     # (1) Prediction.\n",
    "#     x_pred = A * x_esti\n",
    "#     P_pred = A * P * A + Q\n",
    "\n",
    "#     # (2) Kalman Gain.\n",
    "#     K = P_pred * H / (H * P_pred * H + R)\n",
    "\n",
    "#     # (3) Estimation.\n",
    "#     x_esti = x_pred + K * (z_meas - H * x_pred)\n",
    "\n",
    "#     # (4) Error Covariance.\n",
    "#     P = P_pred - K * H * P_pred\n",
    "\n",
    "#     return x_esti, P"
   ]
  },
  {
   "cell_type": "code",
   "execution_count": 70,
   "metadata": {},
   "outputs": [],
   "source": [
    "# # Initialization for system model.\n",
    "# A = 1\n",
    "# H = 1\n",
    "# Q = 0.00000005\n",
    "# R = 0.00001\n",
    "# # Initialization for estimation.\n",
    "# x_0 = 80\n",
    "# P_0 = 10"
   ]
  },
  {
   "cell_type": "code",
   "execution_count": 71,
   "metadata": {},
   "outputs": [],
   "source": [
    "# n_samples = 10621\n",
    "\n",
    "# soc_meas_save = np.zeros(n_samples)\n",
    "# soc_esti_save = np.zeros(n_samples)"
   ]
  },
  {
   "cell_type": "code",
   "execution_count": 72,
   "metadata": {},
   "outputs": [],
   "source": [
    "# x_esti, P = None, None\n",
    "# for i in range(n_samples):\n",
    "#     z_meas = predictions[i]\n",
    "#     if i == 0:\n",
    "#         x_esti, P = x_0, P_0\n",
    "#     else:\n",
    "#         x_esti, P = kalman_filter(z_meas, x_esti, P)\n",
    "\n",
    "#     soc_meas_save[i] = z_meas\n",
    "#     soc_esti_save[i] = x_esti"
   ]
  },
  {
   "cell_type": "code",
   "execution_count": 73,
   "metadata": {},
   "outputs": [],
   "source": [
    "# plt.plot(soc_meas_save, label='Measurements(model soc)')\n",
    "# plt.plot(soc_esti_save, label='Kalman Filter')\n",
    "# plt.plot(dataset_d.y, label='actual data')\n",
    "# plt.legend(loc='upper left')\n",
    "# plt.title('Kalman Filter')\n",
    "# plt.xlabel('Time Steps')\n",
    "\n",
    "# plt.xlim(5200, 5400)\n",
    "# plt.ylim(39, 41)"
   ]
  },
  {
   "cell_type": "code",
   "execution_count": 74,
   "metadata": {},
   "outputs": [],
   "source": [
    "# mean_absolute_error(dataset_d.y[:10000], soc_esti_save[:10000])"
   ]
  },
  {
   "cell_type": "markdown",
   "metadata": {},
   "source": [
    "확장칼만필터"
   ]
  },
  {
   "cell_type": "code",
   "execution_count": 75,
   "metadata": {},
   "outputs": [],
   "source": [
    "# class CustomDataset2(Dataset):\n",
    "#     def __init__(self, file_path, x_size):\n",
    "#         df = pd.read_csv(file_path)\n",
    "#         #print(df.isnull().sum())\n",
    "\n",
    "#         self.I = df.iloc[x_size:, 6:7].values\n",
    "#         #self.x = np.reshape(x, (x.shape[0], 1, x.shape[1]))\n",
    "#         # self.y = df.iloc[x_size:, 13:14].values\n",
    "        \n",
    "#         self.length = len(df) - x_size\n",
    "\n",
    "#     #getitem이거 왜씀?\n",
    "#     def __getitem__(self, index):\n",
    "#         # x = torch.FloatTensor([self.x[index]])\n",
    "#         # y = torch.FloatTensor([self.y[index]])\n",
    "#         # return x, y\n",
    "#         feature = torch.FloatTensor([self.x[index]])\n",
    "#         # label = torch.FloatTensor(self.y[index])\n",
    "\n",
    "#         return feature\n",
    "\n",
    "#     def __len__(self):\n",
    "#         return self.length"
   ]
  },
  {
   "cell_type": "code",
   "execution_count": 76,
   "metadata": {},
   "outputs": [],
   "source": [
    "# dataset_d2 = CustomDataset2(\"US06_80.csv\", 1207)\n",
    "\n",
    "# dataset_d2.I"
   ]
  },
  {
   "cell_type": "code",
   "execution_count": 77,
   "metadata": {},
   "outputs": [],
   "source": [
    "# def Ajacob_at(x_esti):\n",
    "#     return A\n",
    "\n",
    "\n",
    "# def Hjacob_at(x_pred):\n",
    "#     return H\n",
    "\n",
    "\n",
    "# def fx(x_esti, idx):\n",
    "#     # return A * x_esti + (dataset_d2.I[idx]*(1/44.72) / (1.648484097)) \n",
    "#     return x_esti + (dataset_d2.I[idx]*100*(1.007922) / (1.648484097*3600/0.8)) \n",
    "\n",
    "\n",
    "# def hx(x_pred):\n",
    "#     return x_pred\n",
    "\n",
    "\n",
    "# def extended_kalman_filter(z_meas, x_esti, P):\n",
    "#     \"\"\"Extended Kalman Filter Algorithm.\"\"\"\n",
    "#     # (1) Prediction.\n",
    "#     A = Ajacob_at(x_esti)\n",
    "#     x_pred = fx(x_esti)\n",
    "#     P_pred = A @ P @ A.T + Q\n",
    "\n",
    "#     # (2) Kalman Gain.\n",
    "#     H = Hjacob_at(x_pred)\n",
    "#     K = P_pred @ H.T @ inv(H @ P_pred @ H.T + R)\n",
    "\n",
    "#     # (3) Estimation.\n",
    "#     x_esti = x_pred + K @ (z_meas - hx(x_pred))\n",
    "\n",
    "#     # (4) Error Covariance.\n",
    "#     P = P_pred - K @ H @ P_pred\n",
    "\n",
    "#     return x_esti, P"
   ]
  },
  {
   "cell_type": "code",
   "execution_count": 78,
   "metadata": {},
   "outputs": [],
   "source": [
    "# # Initialization for system model.\n",
    "# A = 1\n",
    "# H = 1\n",
    "# Q = 0.00000001\n",
    "# R = 0.000001\n",
    "\n",
    "\n",
    "\n",
    "# # Initialization for estimation.\n",
    "# x_0 = 80\n",
    "# P_0 = 10"
   ]
  },
  {
   "cell_type": "code",
   "execution_count": 79,
   "metadata": {},
   "outputs": [],
   "source": [
    "# n_samples = 10621\n",
    "\n",
    "# soc_meas_save = np.zeros(n_samples)\n",
    "# soc_esti_save = np.zeros(n_samples)"
   ]
  },
  {
   "cell_type": "code",
   "execution_count": 80,
   "metadata": {},
   "outputs": [],
   "source": [
    "# x_esti, P = None, None\n",
    "# for i in range(n_samples):\n",
    "#     z_meas = predictions[i]\n",
    "#     if i == 0:\n",
    "#         x_esti, P = x_0, P_0\n",
    "#     else:\n",
    "#         x_esti, P = kalman_filter(z_meas, x_esti, P)\n",
    "\n",
    "#     soc_meas_save[i] = z_meas\n",
    "#     soc_esti_save[i] = x_esti"
   ]
  },
  {
   "cell_type": "code",
   "execution_count": 81,
   "metadata": {},
   "outputs": [],
   "source": [
    "# plt.plot(soc_meas_save, label='Measurements(model soc)')\n",
    "# plt.plot(soc_esti_save, label='Kalman Filter')\n",
    "# plt.plot(dataset_d.y, label='actual data')\n",
    "# plt.legend(loc='upper left')\n",
    "# plt.title('Kalman Filter')\n",
    "# plt.xlabel('Time Steps')\n",
    "\n",
    "# plt.xlim(3000, 4000)\n",
    "# plt.ylim(50, 58)"
   ]
  },
  {
   "cell_type": "code",
   "execution_count": 82,
   "metadata": {},
   "outputs": [],
   "source": [
    "# mean_absolute_error(dataset_d.y[:10000], soc_esti_save[:10000])"
   ]
  },
  {
   "cell_type": "markdown",
   "metadata": {},
   "source": [
    "무향 칼만 필터(Unscented Kalman Filter)"
   ]
  },
  {
   "cell_type": "code",
   "execution_count": 83,
   "metadata": {},
   "outputs": [],
   "source": [
    "from numpy.linalg import inv, cholesky"
   ]
  },
  {
   "cell_type": "code",
   "execution_count": 84,
   "metadata": {},
   "outputs": [],
   "source": [
    "def sigma_points(mu, Sigma, kappa):\n",
    "    n = 1\n",
    "    Xi = np.zeros((n, 2*n+1))\n",
    "    W = np.zeros(2*n+1)\n",
    "    \n",
    "    Xi[:, 0] = mu\n",
    "    W[0] = kappa / (n + kappa)\n",
    "    \n",
    "    U = cholesky((n + kappa)*Sigma)\n",
    "    \n",
    "    for i in range(n):\n",
    "        Xi[:, i+1]   = mu + U[:, i]\n",
    "        Xi[:, n+i+1] = mu - U[:, i]\n",
    "        W[i+1]       = 1 / (2*(n+kappa))\n",
    "        W[n+i+1]     = W[i+1]\n",
    "        \n",
    "    return Xi, W"
   ]
  },
  {
   "cell_type": "code",
   "execution_count": 85,
   "metadata": {},
   "outputs": [],
   "source": [
    "def UT(Xi, W, noiseCov):\n",
    "    mean = np.sum(W * Xi, axis=1)\n",
    "    cov = W * (Xi - mean.reshape(-1, 1)) @ (Xi  - mean.reshape(-1, 1)).T\n",
    "    return mean, cov + noiseCov"
   ]
  },
  {
   "cell_type": "code",
   "execution_count": 86,
   "metadata": {},
   "outputs": [
    {
     "data": {
      "text/plain": [
       "array([[-0.11091334],\n",
       "       [-0.11109395],\n",
       "       [-0.83389229],\n",
       "       ...,\n",
       "       [-1.1113081 ],\n",
       "       [-1.1113081 ],\n",
       "       [-1.1114887 ]])"
      ]
     },
     "execution_count": 86,
     "metadata": {},
     "output_type": "execute_result"
    }
   ],
   "source": [
    "# dataset_d2 = CustomDataset2(\"FUDS_80.csv\", 2586)\n",
    "dataset_d2 = CustomDataset2(\"BJDST_80.csv\", 1226)\n",
    "# dataset_d2 = CustomDataset2(\"DST_80.csv\", 1919)\n",
    "\n",
    "dataset_d2.I"
   ]
  },
  {
   "cell_type": "code",
   "execution_count": 87,
   "metadata": {},
   "outputs": [],
   "source": [
    "def fx(x_esti, idx):\n",
    "    # return A * x_esti + (dataset_d2.I[idx]*(1/44.72) / (1.648484097)) \n",
    "    return x_esti + (dataset_d2.I[idx]*100*(1.007922) / (1.653517646 *3600/0.8)) #US -> 1.648484097 / DST -> 1.594214 / FUDS->1.600182  / BJDST->1.653517646\n",
    "\n",
    "\n",
    "def hx(x_pred):\n",
    "    return x_pred"
   ]
  },
  {
   "cell_type": "code",
   "execution_count": 88,
   "metadata": {},
   "outputs": [],
   "source": [
    "def unscented_kalman_filter(z_meas, x_esti, P, idx):\n",
    "    \"\"\"Unscented Kalman Filter Algorithm.\"\"\"\n",
    "    # (1) Sample Sigma Points and Weights.\n",
    "    Xi, W = sigma_points(x_esti, P, kappa)\n",
    "\n",
    "    # (2) Predict Mean and Error Covariance of States.\n",
    "    #fXi = fx(Xi) + (dataset_d.y[idx]-x_esti)\n",
    "    fXi = fx(Xi, idx) \n",
    "    x_pred, P_x = UT(fXi, W, Q)\n",
    "\n",
    "    # (3) Calculate Mean and Error Covariance for the Expected Observation.\n",
    "    hXi = hx(fXi)\n",
    "    z_pred, P_z = UT(hXi, W, R)\n",
    "\n",
    "    # (4) Calculate Off Diagonal Elements of Error Covariance and Kalman Gain.\n",
    "    Pxz = W * (fXi - x_pred.reshape(-1, 1)) @ (hXi - z_pred.reshape(-1, 1)).T\n",
    "    K = Pxz @ inv(P_z)\n",
    "\n",
    "    # (5) Estimate Mean and Error Covariance of States. \n",
    "    x_esti = x_pred + K @ (z_meas - z_pred)\n",
    "    P = P_x - K @ P_z @ K.T\n",
    "\n",
    "    return x_esti, P\n",
    "\n"
   ]
  },
  {
   "cell_type": "code",
   "execution_count": 89,
   "metadata": {},
   "outputs": [],
   "source": [
    "# Initialization for system model.\n",
    "# Matrix: A, H, Q, R, P_0\n",
    "# Vector: x_0\n",
    "# A = np.eye(3) + dt * np.array([[0, 1, 0],\n",
    "#                                [0, 0, 0],\n",
    "#                                [0, 0, 0]])\n",
    "A = 1\n",
    "Q = (10**(-5)) * 1\n",
    "R = (10**(-1)) * 5\n",
    "\n",
    "# Initialization for estimation.\n",
    "x_0 = 80\n",
    "P_0 = 10 * np.eye(1) # p_0 = 10\n",
    "\n",
    "# Initialization for sigma points.\n",
    "kappa = 2"
   ]
  },
  {
   "cell_type": "code",
   "execution_count": 90,
   "metadata": {},
   "outputs": [],
   "source": [
    "n_samples = 10537\n",
    "\n",
    "soc_meas_save = np.zeros(n_samples)\n",
    "soc_esti_save = np.zeros(n_samples)"
   ]
  },
  {
   "cell_type": "code",
   "execution_count": 91,
   "metadata": {},
   "outputs": [],
   "source": [
    "x_esti, P = None, None\n",
    "for i in range(n_samples):\n",
    "    z_meas = np.array(predictions[i])\n",
    "    if i == 0:\n",
    "        x_esti, P = x_0, P_0\n",
    "    else:\n",
    "        x_esti, P = unscented_kalman_filter(z_meas, x_esti, P, i)\n",
    "\n",
    "    soc_meas_save[i] = z_meas\n",
    "    soc_esti_save[i] = x_esti"
   ]
  },
  {
   "cell_type": "code",
   "execution_count": 92,
   "metadata": {},
   "outputs": [
    {
     "data": {
      "text/plain": [
       "Text(0.5, 0, 'Time Steps')"
      ]
     },
     "execution_count": 92,
     "metadata": {},
     "output_type": "execute_result"
    },
    {
     "data": {
      "image/png": "[encoded data removed]",
      "text/plain": [
       "<Figure size 1000x500 with 1 Axes>"
      ]
     },
     "metadata": {},
     "output_type": "display_data"
    }
   ],
   "source": [
    "plt.figure(figsize=(10,5))\n",
    "\n",
    "plt.plot(soc_meas_save, label='Measurements(model soc)')\n",
    "plt.plot(soc_esti_save, label='Kalman Filter')\n",
    "plt.plot(dataset_d.y, label='actual data')\n",
    "plt.legend(loc='upper left')\n",
    "plt.title('Kalman Filter')\n",
    "plt.xlabel('Time Steps')\n",
    "\n",
    "\n",
    "\n",
    "# plt.xlim(7500, 8500)\n",
    "# plt.ylim(15, 24)"
   ]
  },
  {
   "cell_type": "code",
   "execution_count": 93,
   "metadata": {},
   "outputs": [
    {
     "name": "stdout",
     "output_type": "stream",
     "text": [
      "mae :  0.2808722711519812\n",
      "mse :  0.11318415131661816\n",
      "rmse :  0.3364285233398294\n"
     ]
    }
   ],
   "source": [
    "print(\"mae : \", mean_absolute_error(dataset_d.y[:10000], soc_esti_save[:10000]))\n",
    "print(\"mse : \", mean_squared_error(dataset_d.y[:10000], soc_esti_save[:10000]))\n",
    "print(\"rmse : \", np.sqrt(mean_squared_error(dataset_d.y[:10000], soc_esti_save[:10000])))"
   ]
  },
  {
   "cell_type": "markdown",
   "metadata": {},
   "source": [
    "+"
   ]
  },
  {
   "cell_type": "code",
   "execution_count": 94,
   "metadata": {},
   "outputs": [],
   "source": [
    "# # Initialization for system model.\n",
    "# A = 1\n",
    "# H = 1\n",
    "# Q = 0.00000001\n",
    "# R = 0.00001\n",
    "\n",
    "\n",
    "\n",
    "# # Initialization for estimation.\n",
    "# x_0 = 80\n",
    "# P_0 = 10"
   ]
  },
  {
   "cell_type": "code",
   "execution_count": 95,
   "metadata": {},
   "outputs": [],
   "source": [
    "# x_esti, P = None, None\n",
    "# for i in range(n_samples):\n",
    "#     z_meas = soc_esti_save[i]\n",
    "#     if i == 0:\n",
    "#         x_esti, P = x_0, P_0\n",
    "#     else:\n",
    "#         x_esti, P = kalman_filter(z_meas, x_esti, P)\n",
    "\n",
    "#     soc_meas_save[i] = z_meas\n",
    "#     soc_esti_save[i] = x_esti"
   ]
  },
  {
   "cell_type": "code",
   "execution_count": 96,
   "metadata": {},
   "outputs": [],
   "source": [
    "# plt.plot(soc_meas_save, label='Measurements(model soc)')\n",
    "# plt.plot(soc_esti_save, label='Kalman Filter')\n",
    "# plt.plot(dataset_d.y, label='actual data')\n",
    "# plt.legend(loc='upper left')\n",
    "# plt.title('Kalman Filter')\n",
    "# plt.xlabel('Time Steps')\n",
    "\n",
    "\n",
    "# plt.xlim(4000, 5000)\n",
    "# plt.ylim(42, 50)"
   ]
  },
  {
   "cell_type": "code",
   "execution_count": 97,
   "metadata": {},
   "outputs": [],
   "source": [
    "# mean_absolute_error(dataset_d.y[:10000], soc_esti_save[:10000])"
   ]
  }
 ],
 "metadata": {
  "kernelspec": {
   "display_name": "Python 3",
   "language": "python",
   "name": "python3"
  },
  "language_info": {
   "codemirror_mode": {
    "name": "ipython",
    "version": 3
   },
   "file_extension": ".py",
   "mimetype": "text/x-python",
   "name": "python",
   "nbconvert_exporter": "python",
   "pygments_lexer": "ipython3",
   "version": "3.10.9"
  },
  "orig_nbformat": 4
 },
 "nbformat": 4,
 "nbformat_minor": 2
}
