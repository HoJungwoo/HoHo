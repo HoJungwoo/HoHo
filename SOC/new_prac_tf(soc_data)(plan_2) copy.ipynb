{
 "cells": [
  {
   "cell_type": "code",
   "execution_count": 1,
   "metadata": {},
   "outputs": [
    {
     "name": "stdout",
     "output_type": "stream",
     "text": [
      "cuda:0\n"
     ]
    }
   ],
   "source": [
    "import os\n",
    "import time\n",
    "\n",
    "import numpy as np\n",
    "import pandas as pd\n",
    "import matplotlib.pyplot as plt\n",
    "\n",
    "import torch\n",
    "import torch.nn as nn\n",
    "import torch.nn.functional as F\n",
    "import math\n",
    "from torch import nn, Tensor, TupleType\n",
    "from torch.nn import Transformer\n",
    "\n",
    "from torch.utils.data import TensorDataset, DataLoader, Dataset, random_split\n",
    "from torch.autograd import Variable\n",
    "from tqdm import tqdm\n",
    "from sklearn.preprocessing import StandardScaler, MinMaxScaler\n",
    "from sklearn.model_selection import train_test_split  \n",
    "\n",
    "device = torch.device('cuda:0' if torch.cuda.is_available() else 'cpu')\n",
    "print(device)"
   ]
  },
  {
   "cell_type": "code",
   "execution_count": 2,
   "metadata": {},
   "outputs": [],
   "source": [
    "class StrideDataset(Dataset):\n",
    "    def __init__(self, file_path, enc_seq_len, target_seq_len, x_size, stride=5):\n",
    "        df = pd.read_csv(file_path)\n",
    "        self.data = df.iloc[x_size:, 13:14].values\n",
    "        self.length = len(df) - x_size\n",
    "\n",
    "        num_samples = (self.length - enc_seq_len - target_seq_len) // stride + 1 #stride씩 움직일 때 생기는 총 sample 개수\n",
    "        \n",
    "        src = np.zeros([enc_seq_len, num_samples])\n",
    "        trg = np.zeros([target_seq_len, num_samples])\n",
    "\n",
    "        self.data = self.data.squeeze()\n",
    "\n",
    "        for i in np.arange(num_samples):\n",
    "            start_x = stride*i\n",
    "            end_x = start_x + enc_seq_len\n",
    "            src[:,i] = self.data[start_x:end_x]\n",
    "\n",
    "            start_y = stride*i + enc_seq_len\n",
    "            end_y = start_y + target_seq_len\n",
    "            trg[:,i] = self.data[start_y:end_y]\n",
    "\n",
    "        src = src.reshape(src.shape[0], src.shape[1], 1).transpose((1,0,2))\n",
    "        trg = trg.reshape(trg.shape[0], trg.shape[1], 1).transpose((1,0,2))\n",
    "        self.src = src\n",
    "        self.trg = trg\n",
    "\n",
    "        self.len = len(src)\n",
    "\n",
    "    def __getitem__(self, i):\n",
    "        return self.src[i], self.trg[i]\n",
    "    \n",
    "    def __len__(self):\n",
    "        return self.len"
   ]
  },
  {
   "cell_type": "code",
   "execution_count": 3,
   "metadata": {},
   "outputs": [],
   "source": [
    "class CustomDataset(Dataset):\n",
    "    def __init__(self, file_path, x_size):\n",
    "        df = pd.read_csv(file_path)\n",
    "\n",
    "        self.x = df.iloc[x_size:, 6:10].values\n",
    "        #self.x = np.reshape(x, (x.shape[0], 1, x.shape[1]))\n",
    "        self.y = df.iloc[x_size:, 13:14].values\n",
    "        \n",
    "        self.length = len(df) - x_size\n",
    "\n",
    "    #getitem이거 왜씀?\n",
    "    def __getitem__(self, index):\n",
    "        # x = torch.FloatTensor([self.x[index]])\n",
    "        # y = torch.FloatTensor([self.y[index]])\n",
    "        # return x, y\n",
    "        feature = torch.FloatTensor([self.x[index]])\n",
    "        label = torch.FloatTensor(self.y[index])\n",
    "\n",
    "        return feature, label\n",
    "\n",
    "    def __len__(self):\n",
    "        return self.length"
   ]
  },
  {
   "cell_type": "code",
   "execution_count": 4,
   "metadata": {},
   "outputs": [],
   "source": [
    "train_dataset = StrideDataset(\"DST_80.csv\", 500, 200, 1919, stride=2)\n",
    "dataset_d = CustomDataset(\"DST_80.csv\", 1919)\n",
    "train_dataloader = DataLoader(train_dataset, batch_size=64, shuffle=False, drop_last=False)"
   ]
  },
  {
   "cell_type": "code",
   "execution_count": 5,
   "metadata": {},
   "outputs": [
    {
     "name": "stdout",
     "output_type": "stream",
     "text": [
      "(4970, 500, 1)\n",
      "(4970, 200, 1)\n"
     ]
    }
   ],
   "source": [
    "print(train_dataset.src.shape)\n",
    "print(train_dataset.trg.shape)"
   ]
  },
  {
   "cell_type": "code",
   "execution_count": 6,
   "metadata": {},
   "outputs": [
    {
     "name": "stdout",
     "output_type": "stream",
     "text": [
      "(10639, 1)\n",
      "(10639, 1)\n"
     ]
    }
   ],
   "source": [
    "print(dataset_d.y.shape)\n",
    "print(dataset_d.y.shape)"
   ]
  },
  {
   "cell_type": "code",
   "execution_count": 7,
   "metadata": {},
   "outputs": [],
   "source": [
    "class PositionalEncoding(nn.Module):\n",
    "    def __init__(self, d_model, dropout=0.1, max_len=5000):\n",
    "        super(PositionalEncoding, self).__init__()\n",
    "        self.dropout = nn.Dropout(p=dropout)\n",
    "\n",
    "        pe = torch.zeros(max_len, d_model)\n",
    "        position = torch.arange(0, max_len, dtype=torch.float).unsqueeze(1)\n",
    "        div_term = torch.exp(torch.arange(0, d_model, 2).float() * (-math.log(10000.0) / d_model))\n",
    "        pe[:, 0::2] = torch.sin(position * div_term)\n",
    "        pe[:, 1::2] = torch.cos(position * div_term)\n",
    "        pe = pe.unsqueeze(0).transpose(0, 1)\n",
    "        self.register_buffer('pe', pe)\n",
    "\n",
    "    def forward(self, x):\n",
    "        x = x + self.pe[:x.size(0), :]\n",
    "        return self.dropout(x)\n",
    "\n",
    "def gen_attention_mask(x):\n",
    "    mask = torch.eq(x, 0)\n",
    "    return mask"
   ]
  },
  {
   "cell_type": "code",
   "execution_count": 8,
   "metadata": {},
   "outputs": [],
   "source": [
    "class TFModel(nn.Module):\n",
    "    def __init__(self,iw, ow, d_model, nhead, nlayers, dropout=0.5):\n",
    "        super(TFModel, self).__init__()\n",
    "        self.encoder_layer = nn.TransformerEncoderLayer(d_model=d_model, nhead=nhead, dropout=dropout)\n",
    "        self.transformer_encoder = nn.TransformerEncoder(self.encoder_layer, num_layers=nlayers) \n",
    "        self.pos_encoder = PositionalEncoding(d_model, dropout)\n",
    "\n",
    "        self.encoder = nn.Sequential(\n",
    "            nn.Linear(1, d_model//2),\n",
    "            nn.ReLU(),\n",
    "            nn.Linear(d_model//2, d_model)\n",
    "        )\n",
    "        \n",
    "        self.linear =  nn.Sequential(\n",
    "            nn.Linear(d_model, d_model//2),\n",
    "            nn.ReLU(),\n",
    "            nn.Linear(d_model//2, 1)\n",
    "        )\n",
    "\n",
    "        self.linear2 = nn.Sequential(\n",
    "            nn.Linear(iw, (iw+ow)//2),\n",
    "            nn.ReLU(),\n",
    "            nn.Linear((iw+ow)//2, ow)\n",
    "        ) \n",
    "\n",
    "    def generate_square_subsequent_mask(self, sz):\n",
    "        mask = (torch.triu(torch.ones(sz, sz)) == 1).transpose(0, 1)\n",
    "        mask = mask.float().masked_fill(mask == 0, float('-inf')).masked_fill(mask == 1, float(0.0))\n",
    "        return mask\n",
    "\n",
    "    def forward(self, src, srcmask):\n",
    "        src = self.encoder(src)\n",
    "        src = self.pos_encoder(src)\n",
    "        output = self.transformer_encoder(src.transpose(0,1), srcmask).transpose(0,1)\n",
    "        output = self.linear(output)[:,:,0]\n",
    "        output = self.linear2(output)\n",
    "        return output\n",
    "\n",
    "class PositionalEncoding(nn.Module):\n",
    "    def __init__(self, d_model, dropout=0.1, max_len=5000):\n",
    "        super(PositionalEncoding, self).__init__()\n",
    "        self.dropout = nn.Dropout(p=dropout)\n",
    "\n",
    "        pe = torch.zeros(max_len, d_model)\n",
    "        position = torch.arange(0, max_len, dtype=torch.float).unsqueeze(1)\n",
    "        div_term = torch.exp(torch.arange(0, d_model, 2).float() * (-math.log(10000.0) / d_model))\n",
    "        pe[:, 0::2] = torch.sin(position * div_term)\n",
    "        pe[:, 1::2] = torch.cos(position * div_term)\n",
    "        pe = pe.unsqueeze(0).transpose(0, 1)\n",
    "        self.register_buffer('pe', pe)\n",
    "\n",
    "    def forward(self, x):\n",
    "        x = x + self.pe[:x.size(0), :]\n",
    "        return self.dropout(x)\n",
    "\n",
    "def gen_attention_mask(x):\n",
    "    mask = torch.eq(x, 0)\n",
    "    return mask"
   ]
  },
  {
   "cell_type": "code",
   "execution_count": 9,
   "metadata": {},
   "outputs": [],
   "source": [
    "lr = 0.0001\n",
    "model = TFModel(500, 200, 512, 8, 4, 0.1).to(device)\n",
    "criterion = nn.MSELoss()\n",
    "optimizer = torch.optim.Adam(model.parameters(), lr=lr)"
   ]
  },
  {
   "cell_type": "code",
   "execution_count": 10,
   "metadata": {},
   "outputs": [
    {
     "name": "stderr",
     "output_type": "stream",
     "text": [
      "loss: 648.140725: 100%|██████████| 15/15 [05:04<00:00, 20.29s/it]\n"
     ]
    }
   ],
   "source": [
    "epoch = 15\n",
    "model.train()\n",
    "progress = tqdm(range(epoch))\n",
    "\n",
    "\n",
    "for i in progress:\n",
    "    batchloss = 0.0\n",
    "    for (inputs, outputs) in train_dataloader:\n",
    "        optimizer.zero_grad()\n",
    "        src_mask = model.generate_square_subsequent_mask(inputs.shape[1]).to(device)\n",
    "        result = model(inputs.float().to(device),  src_mask)\n",
    "        loss = criterion(result, outputs[:,:,0].float().to(device))\n",
    "        loss.backward()\n",
    "        optimizer.step()\n",
    "        batchloss += loss\n",
    "    progress.set_description(\"loss: {:0.6f}\".format(batchloss.cpu().item() / len(train_dataloader)))\n",
    "\n",
    "\n",
    "\n",
    "    # for i in progress:\n",
    "    # batchloss = 0.0\n",
    "\n",
    "    # for (inputs, tgt, tgt_y) in train_dataloader:\n",
    "    #     optimizer.zero_grad()\n",
    "\n",
    "    #     result = model(src.float().to(device), tgt.float().to(device), src_mask, tgt_mask)\n",
    "    #     loss = loss_func(result, tgt_y.float().to(device))\n",
    "\n",
    "    #     loss.backward()\n",
    "    #     optimizer.step()\n",
    "    #     batchloss += loss\n",
    "        \n",
    "    # progress.set_description(\"{:0.5f}\".format(batchloss.cpu().item() / len(train_dataloader)))#??"
   ]
  },
  {
   "cell_type": "code",
   "execution_count": 11,
   "metadata": {},
   "outputs": [],
   "source": [
    "eval_dataset = StrideDataset(\"DST_80.csv\", 500, 200, 1919, stride=2)\n",
    "eval_dataloader = DataLoader(eval_dataset, batch_size=64, shuffle=False, drop_last=False)"
   ]
  },
  {
   "cell_type": "code",
   "execution_count": 12,
   "metadata": {},
   "outputs": [
    {
     "name": "stdout",
     "output_type": "stream",
     "text": [
      "torch.Size([64, 500, 1])\n",
      "torch.Size([64, 500, 1])\n",
      "torch.Size([64, 500, 1])\n",
      "torch.Size([64, 500, 1])\n",
      "torch.Size([64, 500, 1])\n",
      "torch.Size([64, 500, 1])\n",
      "torch.Size([64, 500, 1])\n",
      "torch.Size([64, 500, 1])\n",
      "torch.Size([64, 500, 1])\n",
      "torch.Size([64, 500, 1])\n",
      "torch.Size([64, 500, 1])\n",
      "torch.Size([64, 500, 1])\n",
      "torch.Size([64, 500, 1])\n",
      "torch.Size([64, 500, 1])\n",
      "torch.Size([64, 500, 1])\n",
      "torch.Size([64, 500, 1])\n",
      "torch.Size([64, 500, 1])\n",
      "torch.Size([64, 500, 1])\n",
      "torch.Size([64, 500, 1])\n",
      "torch.Size([64, 500, 1])\n",
      "torch.Size([64, 500, 1])\n",
      "torch.Size([64, 500, 1])\n",
      "torch.Size([64, 500, 1])\n",
      "torch.Size([64, 500, 1])\n",
      "torch.Size([64, 500, 1])\n",
      "torch.Size([64, 500, 1])\n",
      "torch.Size([64, 500, 1])\n",
      "torch.Size([64, 500, 1])\n",
      "torch.Size([64, 500, 1])\n",
      "torch.Size([64, 500, 1])\n",
      "torch.Size([64, 500, 1])\n",
      "torch.Size([64, 500, 1])\n",
      "torch.Size([64, 500, 1])\n",
      "torch.Size([64, 500, 1])\n",
      "torch.Size([64, 500, 1])\n",
      "torch.Size([64, 500, 1])\n",
      "torch.Size([64, 500, 1])\n",
      "torch.Size([64, 500, 1])\n",
      "torch.Size([64, 500, 1])\n",
      "torch.Size([64, 500, 1])\n",
      "torch.Size([64, 500, 1])\n",
      "torch.Size([64, 500, 1])\n",
      "torch.Size([64, 500, 1])\n",
      "torch.Size([64, 500, 1])\n",
      "torch.Size([64, 500, 1])\n",
      "torch.Size([64, 500, 1])\n",
      "torch.Size([64, 500, 1])\n",
      "torch.Size([64, 500, 1])\n",
      "torch.Size([64, 500, 1])\n",
      "torch.Size([64, 500, 1])\n",
      "torch.Size([64, 500, 1])\n",
      "torch.Size([64, 500, 1])\n",
      "torch.Size([64, 500, 1])\n",
      "torch.Size([64, 500, 1])\n",
      "torch.Size([64, 500, 1])\n",
      "torch.Size([64, 500, 1])\n",
      "torch.Size([64, 500, 1])\n",
      "torch.Size([64, 500, 1])\n",
      "torch.Size([64, 500, 1])\n",
      "torch.Size([64, 500, 1])\n",
      "torch.Size([64, 500, 1])\n",
      "torch.Size([64, 500, 1])\n",
      "torch.Size([64, 500, 1])\n",
      "torch.Size([64, 500, 1])\n",
      "torch.Size([64, 500, 1])\n",
      "torch.Size([64, 500, 1])\n",
      "torch.Size([64, 500, 1])\n",
      "torch.Size([64, 500, 1])\n",
      "torch.Size([64, 500, 1])\n",
      "torch.Size([64, 500, 1])\n",
      "torch.Size([64, 500, 1])\n",
      "torch.Size([64, 500, 1])\n",
      "torch.Size([64, 500, 1])\n",
      "torch.Size([64, 500, 1])\n",
      "torch.Size([64, 500, 1])\n",
      "torch.Size([64, 500, 1])\n",
      "torch.Size([64, 500, 1])\n",
      "torch.Size([42, 500, 1])\n",
      "(994000,)\n"
     ]
    }
   ],
   "source": [
    "model.eval()\n",
    "\n",
    "predictions = np.array([])\n",
    "\n",
    "with torch.no_grad():\n",
    "    for (inputs, outputs) in eval_dataloader:\n",
    "        src_mask = model.generate_square_subsequent_mask(inputs.shape[1]).to(device)\n",
    "        print(inputs.shape)\n",
    "        to_numpy = model(inputs.float().to(device), src_mask).detach().cpu().numpy()\n",
    "            \n",
    "        predictions = np.append(predictions, to_numpy)\n",
    "\n",
    "\n",
    "print(predictions.shape)"
   ]
  },
  {
   "cell_type": "code",
   "execution_count": 13,
   "metadata": {},
   "outputs": [
    {
     "data": {
      "text/plain": [
       "(994000,)"
      ]
     },
     "execution_count": 13,
     "metadata": {},
     "output_type": "execute_result"
    }
   ],
   "source": [
    "predictions.shape"
   ]
  },
  {
   "cell_type": "code",
   "execution_count": 14,
   "metadata": {},
   "outputs": [
    {
     "data": {
      "text/plain": [
       "(0.0, 100.0)"
      ]
     },
     "execution_count": 14,
     "metadata": {},
     "output_type": "execute_result"
    },
    {
     "data": {
      "image/png": "[encoded data removed]",
      "text/plain": [
       "<Figure size 2000x500 with 1 Axes>"
      ]
     },
     "metadata": {},
     "output_type": "display_data"
    }
   ],
   "source": [
    "plt.figure(figsize=(20,5))\n",
    "# plt.plot(range(20000-639,20000),dataset_d.y[20000-639:], label=\"real\")\n",
    "plt.plot(predictions, label=\"predict\")\n",
    "plt.plot(dataset_d.y[500:], label=\"real\")\n",
    "plt.xlim([0, 100])\n",
    "\n",
    "# plt.legend()\n",
    "# plt.show()"
   ]
  },
  {
   "cell_type": "code",
   "execution_count": 15,
   "metadata": {},
   "outputs": [],
   "source": [
    "import torch, gc\n",
    "gc.collect()\n",
    "torch.cuda.empty_cache()"
   ]
  }
 ],
 "metadata": {
  "kernelspec": {
   "display_name": "Python 3",
   "language": "python",
   "name": "python3"
  },
  "language_info": {
   "codemirror_mode": {
    "name": "ipython",
    "version": 3
   },
   "file_extension": ".py",
   "mimetype": "text/x-python",
   "name": "python",
   "nbconvert_exporter": "python",
   "pygments_lexer": "ipython3",
   "version": "3.10.9"
  },
  "orig_nbformat": 4
 },
 "nbformat": 4,
 "nbformat_minor": 2
}
