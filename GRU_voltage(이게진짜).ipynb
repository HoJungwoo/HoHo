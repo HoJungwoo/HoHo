{
 "cells": [
  {
   "cell_type": "code",
   "execution_count": null,
   "metadata": {},
   "outputs": [],
   "source": [
    "import os\n",
    "import time\n",
    "\n",
    "import numpy as np\n",
    "import pandas as pd\n",
    "import matplotlib.pyplot as plt\n",
    "\n",
    "import torch\n",
    "import torch.nn as nn\n",
    "from torch.utils.data import TensorDataset, DataLoader, Dataset, random_split\n",
    "from torch.autograd import Variable\n",
    "from tqdm import tqdm\n",
    "from sklearn.preprocessing import StandardScaler, MinMaxScaler\n",
    "from sklearn.model_selection import train_test_split  \n",
    "from torch.utils.tensorboard import SummaryWriter\n",
    "\n",
    "device = torch.device('cuda:0' if torch.cuda.is_available() else 'cpu')\n",
    "print(device)"
   ]
  },
  {
   "cell_type": "code",
   "execution_count": null,
   "metadata": {},
   "outputs": [],
   "source": [
    "class CustomDataset(Dataset):\n",
    "    def __init__(self, file_path):\n",
    "        df = pd.read_csv(file_path)\n",
    "\n",
    "        self.x = df[['전류(A)', '누적_용량(Ah)', '절대값_용량(Ah)']].values\n",
    "        #self.x = np.reshape(x, (x.shape[0], 1, x.shape[1]))\n",
    "\n",
    "        self.y = df.iloc[:, 7:8].values\n",
    "        \n",
    "        self.length = len(df)\n",
    "\n",
    "    #getitem이거 왜씀?\n",
    "    def __getitem__(self, index):\n",
    "        # x = torch.FloatTensor([self.x[index]])\n",
    "        # y = torch.FloatTensor([self.y[index]])\n",
    "        # return x, y\n",
    "        feature = torch.FloatTensor([self.x[index]])\n",
    "        label = torch.FloatTensor(self.y[index])\n",
    "\n",
    "        return feature, label\n",
    "\n",
    "    def __len__(self):\n",
    "        return self.length"
   ]
  },
  {
   "cell_type": "code",
   "execution_count": null,
   "metadata": {},
   "outputs": [],
   "source": [
    "dataset = CustomDataset(\"180801_RFB_510cy_006_DC.csv\")\n",
    "print(dataset.x.shape)\n",
    "print(dataset.x.dtype)\n",
    "print(dataset.y.shape)\n",
    "print(dataset.y.dtype)"
   ]
  },
  {
   "cell_type": "code",
   "execution_count": null,
   "metadata": {},
   "outputs": [],
   "source": [
    "# features.plot(subplots=True)\n",
    "# plt.show()\n",
    "\n",
    "\n",
    "plt.subplot(4,1,1)\n",
    "plt.plot(dataset.x[:20000,:1].squeeze())\n",
    "plt.subplot(4,1,2)\n",
    "plt.plot(dataset.x[:20000,1:2].squeeze())\n",
    "plt.subplot(4,1,3)\n",
    "plt.plot(dataset.x[:20000,2:3].squeeze())\n",
    "plt.subplot(4,1,4)\n",
    "plt.plot(dataset.y[:20000].squeeze())\n",
    "plt.show()"
   ]
  },
  {
   "cell_type": "code",
   "execution_count": null,
   "metadata": {},
   "outputs": [],
   "source": [
    "dataset_size = len(dataset)\n",
    "train_size = int(dataset_size * 0.8)\n",
    "validation_size = int(dataset_size * 0.1)\n",
    "test_size = dataset_size - train_size - validation_size\n",
    "\n",
    "train_dataset, validation_dataset, test_dataset = random_split(dataset, [train_size, validation_size, test_size])\n",
    "\n",
    "print(f\"Training Data Size : {len(train_dataset)}\")\n",
    "print(f\"Validation Data Size : {len(validation_dataset)}\")\n",
    "print(f\"Testing Data Size : {len(test_dataset)}\")"
   ]
  },
  {
   "cell_type": "code",
   "execution_count": null,
   "metadata": {},
   "outputs": [],
   "source": [
    "train_dataloader = DataLoader(train_dataset, batch_size=256, shuffle=False, drop_last=True)\n",
    "validation_dataloader = DataLoader(validation_dataset, batch_size=256, shuffle=False, drop_last=True)\n",
    "test_dataloader = DataLoader(test_dataset, batch_size=256, shuffle=False, drop_last=True)"
   ]
  },
  {
   "cell_type": "code",
   "execution_count": null,
   "metadata": {},
   "outputs": [],
   "source": [
    "class GRU(nn.Module):\n",
    "    def __init__(self, num_classes, input_size, hidden_size, num_layers, seq_length):\n",
    "        super(GRU, self).__init__()\n",
    "        self.num_classes = num_classes \n",
    "        self.num_layers = num_layers \n",
    "        self.input_size = input_size \n",
    "        self.hidden_size = hidden_size \n",
    "        self.seq_length = seq_length \n",
    "\n",
    "        self.gru = nn.GRU(input_size=input_size, hidden_size=hidden_size,\n",
    "                          num_layers=num_layers, batch_first=True) \n",
    "        self.fc_1 =  nn.Linear(hidden_size, 128)\n",
    "        self.batchnormal = nn.BatchNorm1d(128)\n",
    "        self.fc = nn.Linear(128, num_classes) \n",
    "\n",
    "        self.relu = nn.ReLU()\n",
    "    \n",
    "    def forward(self,x):\n",
    "        h_0 = Variable(torch.zeros(self.num_layers, x.size(0), self.hidden_size)) \n",
    "        \n",
    "        output, (hn) = self.gru(x, (h_0)) \n",
    "        hn = hn.view(-1, self.hidden_size) \n",
    "        out = self.relu(hn)\n",
    "        out = self.fc_1(out) \n",
    "        out = self.relu(out) \n",
    "        out = self.fc(out)\n",
    "        return out"
   ]
  },
  {
   "cell_type": "code",
   "execution_count": null,
   "metadata": {},
   "outputs": [],
   "source": [
    "num_epochs = 1000\n",
    "learning_rate = 0.001\n",
    "\n",
    "input_size = 3\n",
    "hidden_size = 16\n",
    "num_layers = 1\n",
    "\n",
    "num_classes = 1\n",
    "\n",
    "model = GRU(num_classes, input_size, hidden_size, num_layers, dataset.x.shape[1])\n",
    "loss_func = torch.nn.MSELoss()\n",
    "optimizer = torch.optim.Adam(model.parameters(), lr=learning_rate)"
   ]
  },
  {
   "cell_type": "code",
   "execution_count": null,
   "metadata": {},
   "outputs": [],
   "source": [
    "def train_loop(model, dataloader, loss_func, optimizer):\n",
    "    model.train()\n",
    "    size = len(dataloader.dataset)\n",
    "    print(\"Training\")\n",
    "    running_loss = 0.\n",
    "    last_loss = 0.\n",
    "\n",
    "    for batch, (x,y) in tqdm(enumerate(dataloader)):\n",
    "        pred = model(x)\n",
    "        loss = loss_func(pred, y)\n",
    "        \n",
    "        optimizer.zero_grad()\n",
    "        loss.backward()\n",
    "        optimizer.step()\n",
    "\n",
    "        if batch % 100 == 0:\n",
    "            loss, current = loss.item(), (batch + 1) * len(x)\n",
    "            print(f\"loss: {loss:>7f}  [{current:>5d}/{size:>5d}]\")\n"
   ]
  },
  {
   "cell_type": "code",
   "execution_count": null,
   "metadata": {},
   "outputs": [],
   "source": [
    "def test_loop(model, dataloader, loss_fn):\n",
    "    size = len(dataloader.dataset)\n",
    "    num_batches = len(dataloader)\n",
    "    test_loss, correct = 0, 0\n",
    "\n",
    "    with torch.no_grad():\n",
    "        for x, y in dataloader:\n",
    "            pred = model(x)\n",
    "            test_loss += loss_fn(pred, y).item()\n",
    "            correct += (pred.argmax(1) == y).type(torch.float).sum().item()\n",
    "\n",
    "    test_loss /= num_batches\n",
    "    correct /= size\n",
    "    print(f\"Test Error: \\n Accuracy: {(100*correct):>0.1f}%, Avg loss: {test_loss:>8f} \\n\")"
   ]
  },
  {
   "cell_type": "code",
   "execution_count": null,
   "metadata": {},
   "outputs": [],
   "source": [
    "for t in range(num_epochs):\n",
    "    print(f\"Epoch {t+1}\\n-------------------------------\")\n",
    "    train_loop(model, train_dataloader, loss_func, optimizer)\n",
    "    test_loop(model, test_dataloader, loss_func)\n",
    "print(\"Done!\")"
   ]
  },
  {
   "cell_type": "code",
   "execution_count": null,
   "metadata": {},
   "outputs": [],
   "source": [
    "X = torch.Tensor(dataset.x)\n",
    "X1 = torch.reshape(X, (X.shape[0], 1, X.shape[1]))\n",
    "\n",
    "Y = torch.Tensor(dataset.y)\n",
    "\n",
    "train_predict = model(X1)\n",
    "predicted = train_predict.data.numpy()\n",
    "label_y = Y.data.numpy()\n",
    "\n",
    "plt.figure(figsize=(10,6))\n",
    "\n",
    "plt.plot(label_y, label='Actual Data')\n",
    "plt.plot(predicted, label='Predicted Data')\n",
    "plt.xlim(180000,200000)\n",
    "plt.title('Voltage prediction')\n",
    "plt.show()"
   ]
  }
 ],
 "metadata": {
  "kernelspec": {
   "display_name": "Python 3",
   "language": "python",
   "name": "python3"
  },
  "language_info": {
   "name": "python",
   "version": "3.10.9"
  },
  "orig_nbformat": 4
 },
 "nbformat": 4,
 "nbformat_minor": 2
}
