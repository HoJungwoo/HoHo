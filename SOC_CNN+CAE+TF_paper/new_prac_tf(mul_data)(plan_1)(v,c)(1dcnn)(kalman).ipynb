{
 "cells": [
  {
   "cell_type": "code",
   "execution_count": 1,
   "metadata": {},
   "outputs": [
    {
     "ename": "IndentationError",
     "evalue": "expected an indented block after class definition on line 373 (transformer.py, line 374)",
     "output_type": "error",
     "traceback": [
      "Traceback \u001b[1;36m(most recent call last)\u001b[0m:\n",
      "\u001b[0m  File \u001b[0;32m~\\AppData\\Roaming\\Python\\Python310\\site-packages\\IPython\\core\\interactiveshell.py:3433\u001b[0m in \u001b[0;35mrun_code\u001b[0m\n    exec(code_obj, self.user_global_ns, self.user_ns)\u001b[0m\n",
      "\u001b[0m  Cell \u001b[0;32mIn[1], line 8\u001b[0m\n    import torch\u001b[0m\n",
      "\u001b[0m  File \u001b[0;32mc:\\Users\\user\\AppData\\Local\\Programs\\Python\\Python310\\lib\\site-packages\\torch\\__init__.py:1382\u001b[0m\n    from .functional import *  # noqa: F403\u001b[0m\n",
      "\u001b[0m  File \u001b[0;32mc:\\Users\\user\\AppData\\Local\\Programs\\Python\\Python310\\lib\\site-packages\\torch\\functional.py:7\u001b[0m\n    import torch.nn.functional as F\u001b[0m\n",
      "\u001b[0m  File \u001b[0;32mc:\\Users\\user\\AppData\\Local\\Programs\\Python\\Python310\\lib\\site-packages\\torch\\nn\\__init__.py:1\u001b[0m\n    from .modules import *  # noqa: F403\u001b[0m\n",
      "\u001b[1;36m  File \u001b[1;32mc:\\Users\\user\\AppData\\Local\\Programs\\Python\\Python310\\lib\\site-packages\\torch\\nn\\modules\\__init__.py:35\u001b[1;36m\n\u001b[1;33m    from .transformer import TransformerEncoder, TransformerDecoder, \\\u001b[1;36m\n",
      "\u001b[1;36m  File \u001b[1;32mc:\\Users\\user\\AppData\\Local\\Programs\\Python\\Python310\\lib\\site-packages\\torch\\nn\\modules\\transformer.py:374\u001b[1;36m\u001b[0m\n\u001b[1;33m    r\"\"\"TransformerEncoderLayer is made up of self-attn and feedforward network.\u001b[0m\n\u001b[1;37m    ^\u001b[0m\n\u001b[1;31mIndentationError\u001b[0m\u001b[1;31m:\u001b[0m expected an indented block after class definition on line 373\n"
     ]
    }
   ],
   "source": [
    "import os\n",
    "import time\n",
    "\n",
    "import numpy as np\n",
    "import pandas as pd\n",
    "import matplotlib.pyplot as plt\n",
    "\n",
    "import torch\n",
    "import torch.nn as nn\n",
    "import torch.nn.functional as F\n",
    "import math\n",
    "from torch import nn, Tensor, TupleType\n",
    "from torch.nn import Transformer\n",
    "\n",
    "from torch.utils.data import TensorDataset, DataLoader, Dataset, random_split\n",
    "from torch.autograd import Variable\n",
    "from tqdm import tqdm\n",
    "from sklearn.preprocessing import StandardScaler, MinMaxScaler\n",
    "from sklearn.model_selection import train_test_split  \n",
    "\n",
    "device = torch.device('cuda:0' if torch.cuda.is_available() else 'cpu')\n",
    "print(device)"
   ]
  },
  {
   "cell_type": "code",
   "execution_count": null,
   "metadata": {},
   "outputs": [],
   "source": [
    "mm_scaler = MinMaxScaler()\n",
    "\n",
    "class StrideDataset(Dataset):\n",
    "    def __init__(self, file_path, enc_seq_len, target_seq_len, x_size, stride=5):\n",
    "        df = pd.read_csv(file_path)\n",
    "        \n",
    "        self.soc = df.iloc[x_size:, 20:21].values #SoC\n",
    "        self.soc = self.soc.squeeze()\n",
    "        self.soc = mm_scaler.fit_transform(self.soc.reshape(-1, 1))\n",
    "        self.soc = self.soc.squeeze()\n",
    "\n",
    "        self.src_v = df.iloc[x_size:, 7:8].values #V\n",
    "        self.src_v = self.src_v.squeeze()\n",
    "        self.src_v = mm_scaler.fit_transform(self.src_v.reshape(-1, 1))\n",
    "        self.src_v = self.src_v.squeeze()\n",
    "\n",
    "        self.src_c = df.iloc[x_size:, 6:7].values #I\n",
    "        self.src_c = self.src_c.squeeze()\n",
    "        self.src_c = mm_scaler.fit_transform(self.src_c.reshape(-1, 1))\n",
    "        self.src_c = self.src_c.squeeze()\n",
    "\n",
    "\n",
    "        self.length = len(df) - x_size\n",
    "\n",
    "        num_samples = (self.length - enc_seq_len - target_seq_len) // stride + 1 #stride씩 움직일 때 생기는 총 sample 개수\n",
    "        \n",
    "        src_v = np.zeros([enc_seq_len, num_samples])\n",
    "        src_c = np.zeros([enc_seq_len, num_samples])\n",
    "        trg = np.zeros([target_seq_len, num_samples])\n",
    "\n",
    "\n",
    "        for i in np.arange(num_samples):\n",
    "            start_x = stride*i\n",
    "            end_x = start_x + enc_seq_len\n",
    "            src_v[:,i] = self.src_v[start_x:end_x]\n",
    "            src_c[:,i] = self.src_c[start_x:end_x]\n",
    "\n",
    "            start_y = stride*i + enc_seq_len\n",
    "            end_y = start_y + target_seq_len\n",
    "            trg[:,i] = self.soc[start_y:end_y]\n",
    "\n",
    "        src_v = src_v.reshape(src_v.shape[0], src_v.shape[1], 1).transpose((1,0,2))\n",
    "        src_c = src_c.reshape(src_c.shape[0], src_c.shape[1], 1).transpose((1,0,2))\n",
    "        trg = trg.reshape(trg.shape[0], trg.shape[1], 1).transpose((1,0,2))\n",
    "\n",
    "        self.src_v = src_v\n",
    "        self.src_c = src_c\n",
    "        self.trg = trg\n",
    "\n",
    "        self.len = len(src_v)\n",
    "\n",
    "    def __getitem__(self, i):\n",
    "        return self.src_v[i], self.src_c[i], self.trg[i, :-1], self.trg[i, 1:]\n",
    "    \n",
    "    def __len__(self):\n",
    "        return self.len"
   ]
  },
  {
   "cell_type": "code",
   "execution_count": null,
   "metadata": {},
   "outputs": [],
   "source": [
    "# class StrideDataset_2(Dataset):\n",
    "#     def __init__(self, file_path, enc_seq_len, target_seq_len, x_size, stride=5):\n",
    "#         df = pd.read_csv(file_path)\n",
    "        \n",
    "#         self.data = df.iloc[x_size:, 13:14].values #SoC\n",
    "#         self.data = self.data.squeeze()\n",
    "\n",
    "#         self.length = len(df) - x_size\n",
    "\n",
    "#         num_samples = (self.length - enc_seq_len - target_seq_len) // stride + 1 #stride씩 움직일 때 생기는 총 sample 개수\n",
    "        \n",
    "#         src = np.zeros([enc_seq_len, num_samples])\n",
    "#         trg = np.zeros([target_seq_len, num_samples])\n",
    "\n",
    "\n",
    "#         for i in np.arange(num_samples):\n",
    "#             start_x = stride*i\n",
    "#             end_x = start_x + enc_seq_len\n",
    "#             src[:,i] = self.data[start_x:end_x]\n",
    "\n",
    "#             start_y = stride*i + enc_seq_len\n",
    "#             end_y = start_y + target_seq_len\n",
    "#             trg[:,i] = self.data[start_y:end_y]\n",
    "\n",
    "#         src = src.reshape(src.shape[0], src.shape[1], 1).transpose((1,0,2))\n",
    "#         trg = trg.reshape(trg.shape[0], trg.shape[1], 1).transpose((1,0,2))\n",
    "#         self.src = src\n",
    "#         self.trg = trg\n",
    "\n",
    "#         self.len = len(src)\n",
    "\n",
    "#     def __getitem__(self, i):\n",
    "#         return self.src[i], self.trg[i, :-1], self.trg[i, 1:]\n",
    "    \n",
    "#     def __len__(self):\n",
    "#         return self.len"
   ]
  },
  {
   "cell_type": "code",
   "execution_count": null,
   "metadata": {},
   "outputs": [],
   "source": [
    "class CustomDataset(Dataset):\n",
    "    def __init__(self, file_path, x_size):\n",
    "        df = pd.read_csv(file_path)\n",
    "        #print(df.isnull().sum())\n",
    "\n",
    "        self.x = df.iloc[x_size:, 6:10].values\n",
    "        #self.x = np.reshape(x, (x.shape[0], 1, x.shape[1]))\n",
    "        self.y = df.iloc[x_size:, 20:21].values\n",
    "        \n",
    "        self.length = len(df) - x_size\n",
    "\n",
    "    def __getitem__(self, index):\n",
    "        # x = torch.FloatTensor([self.x[index]])\n",
    "        # y = torch.FloatTensor([self.y[index]])\n",
    "        # return x, y\n",
    "        feature = torch.FloatTensor([self.x[index]])\n",
    "        label = torch.FloatTensor(self.y[index])\n",
    "\n",
    "        return feature, label\n",
    "\n",
    "    def __len__(self):\n",
    "        return self.length"
   ]
  },
  {
   "cell_type": "code",
   "execution_count": null,
   "metadata": {},
   "outputs": [],
   "source": [
    "train_dataset_1 = StrideDataset(\"DST_80.csv\", 50, 20, 1919, stride=5)\n",
    "train_dataset_2 = StrideDataset(\"US06_80.csv\", 50, 20, 1207, stride=5)\n",
    "# train_dataset_2 = StrideDataset(\"FUDS_80.csv\", 50, 20, 2586, stride=5)\n",
    "\n",
    "train_dataset = torch.utils.data.ConcatDataset([train_dataset_1, train_dataset_2])\n",
    "# train_dataset = train_dataset_2\n",
    "\n",
    "\n",
    "train_dataloader = DataLoader(train_dataset, batch_size=257, shuffle=True, drop_last=True)\n",
    "# dataset_d = CustomDataset(\"DST_80.csv\", 1919)"
   ]
  },
  {
   "cell_type": "code",
   "execution_count": null,
   "metadata": {},
   "outputs": [],
   "source": [
    "# plt.plot(train_dataset_1)\n",
    "# plt.show()\n",
    "# plt.plot(train_dataset.src_v.squeeze())\n",
    "# plt.show()\n",
    "# plt.plot(train_dataset.trg.squeeze())\n",
    "# plt.show()\n"
   ]
  },
  {
   "cell_type": "code",
   "execution_count": null,
   "metadata": {},
   "outputs": [],
   "source": [
    "class TFModel(nn.Module):\n",
    "    def __init__(self, d_model, nhead, nhid, nlayers, dropout=0.5):\n",
    "        super(TFModel, self).__init__()\n",
    "\n",
    "        # self.transformer = Transformer(d_model=d_model, nhead=nhead, dim_feedforward=nhid, num_encoder_layers=nlayers, num_decoder_layers=nlayers,dropout=dropout)\n",
    "        \n",
    "        # self.linear = nn.Linear(d_model, 1)\n",
    "        # self.pos_encoder = PositionalEncoding(d_model, dropout)\n",
    "\n",
    "        # self.encoder = nn.Linear(1, d_model)\n",
    "\n",
    "        self.coder_in = nn.Linear(1,d_model)\n",
    "        \n",
    "        self.conv_in = nn.Sequential(\n",
    "            nn.Conv1d(1, 500, kernel_size= 15, padding=7, padding_mode=\"circular\")\n",
    "            # nn.Linear(50-15+1, 50) #src-ker+1, src\n",
    "        )\n",
    "        \n",
    "        self.conv_in_2 = nn.Sequential(\n",
    "            nn.Conv1d(1, 500, kernel_size= 15, padding=7, padding_mode=\"circular\"),\n",
    "            # nn.Linear(20-15, 20-1) #dec-ker, dec-1\n",
    "        )\n",
    "        \n",
    "        self.conv_out = nn.Sequential(\n",
    "            nn.Conv1d(d_model, 1, kernel_size= 5, padding=2, padding_mode=\"circular\"),\n",
    "            # nn.Linear(20-5, 20-1) #tgt-ker, tgt-1\n",
    "        )\n",
    "\n",
    "        self.coder_pos = PositionalEncoding(d_model, dropout)\n",
    "\n",
    "        self.encoder_layer = nn.TransformerEncoderLayer(d_model=d_model, nhead=nhead, dropout=dropout)\n",
    "        self.transformer_encoder = nn.TransformerEncoder(self.encoder_layer, num_layers=nlayers)\n",
    "\n",
    "        self.con_lin = nn.Linear(d_model*2, d_model)\n",
    "\n",
    "        self.decoder_layer = nn.TransformerDecoderLayer(d_model=d_model, nhead=nhead, dropout=dropout)\n",
    "        self.transformer_decoder = nn.TransformerDecoder(self.decoder_layer, num_layers=nlayers) #(target, memory) // memort->인코더에서 나온 컨텍스트벡터?\n",
    "        self.linear = nn.Linear(d_model, 1)\n",
    "        \n",
    "        self.act = nn.Softmax(dim=1)\n",
    "        \n",
    "        self.linear_in = nn.Linear(1, d_model)\n",
    "        \n",
    "\n",
    "    def generate_square_subsequent_mask(self, sz):\n",
    "        mask = (torch.triu(torch.ones(sz, sz)) == 1).transpose(0, 1)\n",
    "        mask = mask.float().masked_fill(mask == 0, float('-inf')).masked_fill(mask == 1, float(0.0))\n",
    "        return mask\n",
    "\n",
    "    #def forward(self, src, tgt, srcmask, tgtmask):\n",
    "    def forward(self, src_v, src_c, tgt_s, srcmask, tgtmask):\n",
    "        # src_v = self.coder_in(src_v)\n",
    "        src_v = self.conv_in(src_v.transpose(2,1)).transpose(2,1)\n",
    "        #src_v = self.linear_in(src_v)\n",
    "        src_v = self.coder_pos(src_v)\n",
    "\n",
    "        # src_c = self.coder_in(src_c)\n",
    "        src_c = self.conv_in(src_c.transpose(2,1)).transpose(2,1)\n",
    "        # src_c = self.linear_in(src_c)\n",
    "        src_c = self.coder_pos(src_c)\n",
    "\n",
    "        con_v = self.transformer_encoder(src_v.transpose(0,1), srcmask).transpose(0,1)\n",
    "        con_c = self.transformer_encoder(src_c.transpose(0,1), srcmask).transpose(0,1)\n",
    "        \n",
    "        #print(con_v.shape)\n",
    "        #print(con_c.shape)\n",
    "        \n",
    "\n",
    "        con = torch.cat((con_v, con_c), dim=2)\n",
    "        #print(con.shape)\n",
    "        \n",
    "        con = self.con_lin(con)\n",
    "        #print(con.shape)\n",
    "        \n",
    "        \n",
    "        #print(tgt_s.shape)\n",
    "        tgt_s = self.coder_in(tgt_s)\n",
    "        # tgt_s = self.conv_in_2(tgt_s.transpose(2,1)).transpose(2,1)\n",
    "        tgt_s = self.coder_pos(tgt_s)\n",
    "        #print(tgt_s.shape)\n",
    "        \n",
    "        tgt = self.transformer_decoder(tgt_s.transpose(0,1), con.transpose(0,1)).transpose(0,1)\n",
    "        #print(tgt.shape)\n",
    "        tgt = self.conv_out(tgt.transpose(2,1)).transpose(2,1)\n",
    "        # tgt = self.linear(tgt)\n",
    "        # tgt = self.act(tgt)\n",
    "        #print(tgt.shape)\n",
    "\n",
    "        return tgt\n",
    "\n",
    "class PositionalEncoding(nn.Module):\n",
    "    def __init__(self, d_model, dropout=0.1, max_len=5000):\n",
    "        super(PositionalEncoding, self).__init__()\n",
    "        self.dropout = nn.Dropout(p=dropout)\n",
    "\n",
    "        pe = torch.zeros(max_len, d_model)\n",
    "        position = torch.arange(0, max_len, dtype=torch.float).unsqueeze(1)\n",
    "        div_term = torch.exp(torch.arange(0, d_model, 2).float() * (-math.log(10000.0) / d_model))\n",
    "        pe[:, 0::2] = torch.sin(position * div_term)\n",
    "        pe[:, 1::2] = torch.cos(position * div_term)\n",
    "        pe = pe.unsqueeze(0).transpose(0, 1)\n",
    "        self.register_buffer('pe', pe)\n",
    "\n",
    "    def forward(self, x):\n",
    "        x = x + self.pe[:x.size(0), :]\n",
    "        return self.dropout(x)\n",
    "\n",
    "def gen_attention_mask(x):\n",
    "    mask = torch.eq(x, 0)\n",
    "    return mask"
   ]
  },
  {
   "cell_type": "code",
   "execution_count": null,
   "metadata": {},
   "outputs": [],
   "source": []
  },
  {
   "cell_type": "code",
   "execution_count": null,
   "metadata": {},
   "outputs": [],
   "source": [
    "lr = 0.00003\n",
    "model = TFModel(500, 10, 256, 4, 0.1).to(device)\n",
    "criterion = nn.MSELoss()\n",
    "optimizer = torch.optim.AdamW(model.parameters(), lr=lr)"
   ]
  },
  {
   "cell_type": "code",
   "execution_count": null,
   "metadata": {},
   "outputs": [
    {
     "name": "stderr",
     "output_type": "stream",
     "text": [
      "  0%|          | 0/2500 [00:01<?, ?it/s]\n"
     ]
    },
    {
     "ename": "AttributeError",
     "evalue": "module 'torch.nn.functional' has no attribute '_canonical_mask'",
     "output_type": "error",
     "traceback": [
      "\u001b[1;31m---------------------------------------------------------------------------\u001b[0m",
      "\u001b[1;31mAttributeError\u001b[0m                            Traceback (most recent call last)",
      "\u001b[1;32mc:\\Users\\user\\Documents\\GitHub\\HoHo\\SOC_tf_0811\\new_prac_tf(mul_data)(plan_1)(v,c)(1dcnn)(kalman).ipynb 셀 10\u001b[0m line \u001b[0;36m1\n\u001b[0;32m     <a href='vscode-notebook-cell:/c%3A/Users/user/Documents/GitHub/HoHo/SOC_tf_0811/new_prac_tf%28mul_data%29%28plan_1%29%28v%2Cc%29%281dcnn%29%28kalman%29.ipynb#X12sZmlsZQ%3D%3D?line=13'>14</a>\u001b[0m \u001b[39m#print(dec_inputs.shape[1])\u001b[39;00m\n\u001b[0;32m     <a href='vscode-notebook-cell:/c%3A/Users/user/Documents/GitHub/HoHo/SOC_tf_0811/new_prac_tf%28mul_data%29%28plan_1%29%28v%2Cc%29%281dcnn%29%28kalman%29.ipynb#X12sZmlsZQ%3D%3D?line=14'>15</a>\u001b[0m tgt_mask \u001b[39m=\u001b[39m model\u001b[39m.\u001b[39mgenerate_square_subsequent_mask(dec_inputs\u001b[39m.\u001b[39mshape[\u001b[39m1\u001b[39m])\u001b[39m.\u001b[39mto(device)\n\u001b[1;32m---> <a href='vscode-notebook-cell:/c%3A/Users/user/Documents/GitHub/HoHo/SOC_tf_0811/new_prac_tf%28mul_data%29%28plan_1%29%28v%2Cc%29%281dcnn%29%28kalman%29.ipynb#X12sZmlsZQ%3D%3D?line=16'>17</a>\u001b[0m result \u001b[39m=\u001b[39m model(inputs_v\u001b[39m.\u001b[39;49mfloat()\u001b[39m.\u001b[39;49mto(device), inputs_c\u001b[39m.\u001b[39;49mfloat()\u001b[39m.\u001b[39;49mto(device), dec_inputs\u001b[39m.\u001b[39;49mfloat()\u001b[39m.\u001b[39;49mto(device), src_mask, tgt_mask)\n\u001b[0;32m     <a href='vscode-notebook-cell:/c%3A/Users/user/Documents/GitHub/HoHo/SOC_tf_0811/new_prac_tf%28mul_data%29%28plan_1%29%28v%2Cc%29%281dcnn%29%28kalman%29.ipynb#X12sZmlsZQ%3D%3D?line=18'>19</a>\u001b[0m \u001b[39m#loss = criterion(result.permute(1,0,2), outputs.float().to(device))\u001b[39;00m\n\u001b[0;32m     <a href='vscode-notebook-cell:/c%3A/Users/user/Documents/GitHub/HoHo/SOC_tf_0811/new_prac_tf%28mul_data%29%28plan_1%29%28v%2Cc%29%281dcnn%29%28kalman%29.ipynb#X12sZmlsZQ%3D%3D?line=19'>20</a>\u001b[0m loss \u001b[39m=\u001b[39m criterion(result, outputs\u001b[39m.\u001b[39mfloat()\u001b[39m.\u001b[39mto(device))\n",
      "File \u001b[1;32mc:\\Users\\user\\AppData\\Local\\Programs\\Python\\Python310\\lib\\site-packages\\torch\\nn\\modules\\module.py:1194\u001b[0m, in \u001b[0;36mModule._call_impl\u001b[1;34m(self, *input, **kwargs)\u001b[0m\n\u001b[0;32m   1190\u001b[0m \u001b[39m# If we don't have any hooks, we want to skip the rest of the logic in\u001b[39;00m\n\u001b[0;32m   1191\u001b[0m \u001b[39m# this function, and just call forward.\u001b[39;00m\n\u001b[0;32m   1192\u001b[0m \u001b[39mif\u001b[39;00m \u001b[39mnot\u001b[39;00m (\u001b[39mself\u001b[39m\u001b[39m.\u001b[39m_backward_hooks \u001b[39mor\u001b[39;00m \u001b[39mself\u001b[39m\u001b[39m.\u001b[39m_forward_hooks \u001b[39mor\u001b[39;00m \u001b[39mself\u001b[39m\u001b[39m.\u001b[39m_forward_pre_hooks \u001b[39mor\u001b[39;00m _global_backward_hooks\n\u001b[0;32m   1193\u001b[0m         \u001b[39mor\u001b[39;00m _global_forward_hooks \u001b[39mor\u001b[39;00m _global_forward_pre_hooks):\n\u001b[1;32m-> 1194\u001b[0m     \u001b[39mreturn\u001b[39;00m forward_call(\u001b[39m*\u001b[39m\u001b[39minput\u001b[39m, \u001b[39m*\u001b[39m\u001b[39m*\u001b[39mkwargs)\n\u001b[0;32m   1195\u001b[0m \u001b[39m# Do not call functions when jit is used\u001b[39;00m\n\u001b[0;32m   1196\u001b[0m full_backward_hooks, non_full_backward_hooks \u001b[39m=\u001b[39m [], []\n",
      "\u001b[1;32mc:\\Users\\user\\Documents\\GitHub\\HoHo\\SOC_tf_0811\\new_prac_tf(mul_data)(plan_1)(v,c)(1dcnn)(kalman).ipynb 셀 10\u001b[0m line \u001b[0;36m6\n\u001b[0;32m     <a href='vscode-notebook-cell:/c%3A/Users/user/Documents/GitHub/HoHo/SOC_tf_0811/new_prac_tf%28mul_data%29%28plan_1%29%28v%2Cc%29%281dcnn%29%28kalman%29.ipynb#X12sZmlsZQ%3D%3D?line=58'>59</a>\u001b[0m \u001b[39m# src_c = self.linear_in(src_c)\u001b[39;00m\n\u001b[0;32m     <a href='vscode-notebook-cell:/c%3A/Users/user/Documents/GitHub/HoHo/SOC_tf_0811/new_prac_tf%28mul_data%29%28plan_1%29%28v%2Cc%29%281dcnn%29%28kalman%29.ipynb#X12sZmlsZQ%3D%3D?line=59'>60</a>\u001b[0m src_c \u001b[39m=\u001b[39m \u001b[39mself\u001b[39m\u001b[39m.\u001b[39mcoder_pos(src_c)\n\u001b[1;32m---> <a href='vscode-notebook-cell:/c%3A/Users/user/Documents/GitHub/HoHo/SOC_tf_0811/new_prac_tf%28mul_data%29%28plan_1%29%28v%2Cc%29%281dcnn%29%28kalman%29.ipynb#X12sZmlsZQ%3D%3D?line=61'>62</a>\u001b[0m con_v \u001b[39m=\u001b[39m \u001b[39mself\u001b[39;49m\u001b[39m.\u001b[39;49mtransformer_encoder(src_v\u001b[39m.\u001b[39;49mtranspose(\u001b[39m0\u001b[39;49m,\u001b[39m1\u001b[39;49m), srcmask)\u001b[39m.\u001b[39mtranspose(\u001b[39m0\u001b[39m,\u001b[39m1\u001b[39m)\n\u001b[0;32m     <a href='vscode-notebook-cell:/c%3A/Users/user/Documents/GitHub/HoHo/SOC_tf_0811/new_prac_tf%28mul_data%29%28plan_1%29%28v%2Cc%29%281dcnn%29%28kalman%29.ipynb#X12sZmlsZQ%3D%3D?line=62'>63</a>\u001b[0m con_c \u001b[39m=\u001b[39m \u001b[39mself\u001b[39m\u001b[39m.\u001b[39mtransformer_encoder(src_c\u001b[39m.\u001b[39mtranspose(\u001b[39m0\u001b[39m,\u001b[39m1\u001b[39m), srcmask)\u001b[39m.\u001b[39mtranspose(\u001b[39m0\u001b[39m,\u001b[39m1\u001b[39m)\n\u001b[0;32m     <a href='vscode-notebook-cell:/c%3A/Users/user/Documents/GitHub/HoHo/SOC_tf_0811/new_prac_tf%28mul_data%29%28plan_1%29%28v%2Cc%29%281dcnn%29%28kalman%29.ipynb#X12sZmlsZQ%3D%3D?line=64'>65</a>\u001b[0m \u001b[39m#print(con_v.shape)\u001b[39;00m\n\u001b[0;32m     <a href='vscode-notebook-cell:/c%3A/Users/user/Documents/GitHub/HoHo/SOC_tf_0811/new_prac_tf%28mul_data%29%28plan_1%29%28v%2Cc%29%281dcnn%29%28kalman%29.ipynb#X12sZmlsZQ%3D%3D?line=65'>66</a>\u001b[0m \u001b[39m#print(con_c.shape)\u001b[39;00m\n",
      "File \u001b[1;32mc:\\Users\\user\\AppData\\Local\\Programs\\Python\\Python310\\lib\\site-packages\\torch\\nn\\modules\\module.py:1194\u001b[0m, in \u001b[0;36mModule._call_impl\u001b[1;34m(self, *input, **kwargs)\u001b[0m\n\u001b[0;32m   1190\u001b[0m \u001b[39m# If we don't have any hooks, we want to skip the rest of the logic in\u001b[39;00m\n\u001b[0;32m   1191\u001b[0m \u001b[39m# this function, and just call forward.\u001b[39;00m\n\u001b[0;32m   1192\u001b[0m \u001b[39mif\u001b[39;00m \u001b[39mnot\u001b[39;00m (\u001b[39mself\u001b[39m\u001b[39m.\u001b[39m_backward_hooks \u001b[39mor\u001b[39;00m \u001b[39mself\u001b[39m\u001b[39m.\u001b[39m_forward_hooks \u001b[39mor\u001b[39;00m \u001b[39mself\u001b[39m\u001b[39m.\u001b[39m_forward_pre_hooks \u001b[39mor\u001b[39;00m _global_backward_hooks\n\u001b[0;32m   1193\u001b[0m         \u001b[39mor\u001b[39;00m _global_forward_hooks \u001b[39mor\u001b[39;00m _global_forward_pre_hooks):\n\u001b[1;32m-> 1194\u001b[0m     \u001b[39mreturn\u001b[39;00m forward_call(\u001b[39m*\u001b[39m\u001b[39minput\u001b[39m, \u001b[39m*\u001b[39m\u001b[39m*\u001b[39mkwargs)\n\u001b[0;32m   1195\u001b[0m \u001b[39m# Do not call functions when jit is used\u001b[39;00m\n\u001b[0;32m   1196\u001b[0m full_backward_hooks, non_full_backward_hooks \u001b[39m=\u001b[39m [], []\n",
      "File \u001b[1;32mc:\\Users\\user\\AppData\\Local\\Programs\\Python\\Python310\\lib\\site-packages\\torch\\nn\\modules\\transformer.py:216\u001b[0m, in \u001b[0;36mTransformerEncoder.forward\u001b[1;34m(self, src, mask, src_key_padding_mask, is_causal)\u001b[0m\n\u001b[0;32m    195\u001b[0m \u001b[39mdef\u001b[39;00m \u001b[39mforward\u001b[39m(\n\u001b[0;32m    196\u001b[0m         \u001b[39mself\u001b[39m,\n\u001b[0;32m    197\u001b[0m         src: Tensor,\n\u001b[0;32m    198\u001b[0m         mask: Optional[Tensor] \u001b[39m=\u001b[39m \u001b[39mNone\u001b[39;00m,\n\u001b[0;32m    199\u001b[0m         src_key_padding_mask: Optional[Tensor] \u001b[39m=\u001b[39m \u001b[39mNone\u001b[39;00m,\n\u001b[0;32m    200\u001b[0m         is_causal: Optional[\u001b[39mbool\u001b[39m] \u001b[39m=\u001b[39m \u001b[39mNone\u001b[39;00m) \u001b[39m-\u001b[39m\u001b[39m>\u001b[39m Tensor:\n\u001b[0;32m    201\u001b[0m     \u001b[39mr\u001b[39m\u001b[39m\"\"\"Pass the input through the encoder layers in turn.\u001b[39;00m\n\u001b[0;32m    202\u001b[0m \n\u001b[0;32m    203\u001b[0m \u001b[39m    Args:\u001b[39;00m\n\u001b[1;32m   (...)\u001b[0m\n\u001b[0;32m    212\u001b[0m \u001b[39m        see the docs in Transformer class.\u001b[39;00m\n\u001b[0;32m    213\u001b[0m \u001b[39m    \"\"\"\u001b[39;00m\n\u001b[1;32m--> 216\u001b[0m     src_key_padding_mask \u001b[39m=\u001b[39m F\u001b[39m.\u001b[39;49m_canonical_mask(\n\u001b[0;32m    217\u001b[0m         mask\u001b[39m=\u001b[39msrc_key_padding_mask,\n\u001b[0;32m    218\u001b[0m         mask_name\u001b[39m=\u001b[39m\u001b[39m\"\u001b[39m\u001b[39msrc_key_padding_mask\u001b[39m\u001b[39m\"\u001b[39m,\n\u001b[0;32m    219\u001b[0m         other_type\u001b[39m=\u001b[39mF\u001b[39m.\u001b[39m_none_or_dtype(mask),\n\u001b[0;32m    220\u001b[0m         other_name\u001b[39m=\u001b[39m\u001b[39m\"\u001b[39m\u001b[39mmask\u001b[39m\u001b[39m\"\u001b[39m,\n\u001b[0;32m    221\u001b[0m         target_type\u001b[39m=\u001b[39msrc\u001b[39m.\u001b[39mdtype\n\u001b[0;32m    222\u001b[0m     )\n\u001b[0;32m    224\u001b[0m     output \u001b[39m=\u001b[39m src\n\u001b[0;32m    225\u001b[0m     output \u001b[39m=\u001b[39m output\u001b[39m.\u001b[39mtranspose(\u001b[39m0\u001b[39m,\u001b[39m1\u001b[39m)\n",
      "\u001b[1;31mAttributeError\u001b[0m: module 'torch.nn.functional' has no attribute '_canonical_mask'"
     ]
    }
   ],
   "source": [
    "epoch = 2500\n",
    "model.train()\n",
    "progress = tqdm(range(epoch))\n",
    "\n",
    "loss_arr = list()\n",
    "\n",
    "\n",
    "for i in progress:\n",
    "    batchloss = 0.0\n",
    "    for (inputs_v, inputs_c, dec_inputs, outputs) in train_dataloader:\n",
    "        optimizer.zero_grad()\n",
    "        #print(inputs_v.shape[1])\n",
    "        src_mask = model.generate_square_subsequent_mask(inputs_v.shape[1]).to(device)\n",
    "        #print(dec_inputs.shape[1])\n",
    "        tgt_mask = model.generate_square_subsequent_mask(dec_inputs.shape[1]).to(device)\n",
    "        \n",
    "        result = model(inputs_v.float().to(device), inputs_c.float().to(device), dec_inputs.float().to(device), src_mask, tgt_mask)\n",
    "        \n",
    "        #loss = criterion(result.permute(1,0,2), outputs.float().to(device))\n",
    "        loss = criterion(result, outputs.float().to(device))\n",
    "        \n",
    "        \n",
    "        loss.backward()\n",
    "        optimizer.step()\n",
    "        batchloss += loss\n",
    "    \n",
    "        \n",
    "    loss_arr.append((batchloss.cpu().item() / len(train_dataloader)))\n",
    "    progress.set_description(\"loss: {:0.6f}\".format(batchloss.cpu().item() / len(train_dataloader)))\n",
    "\n",
    "\n",
    "\n",
    "\n",
    "    # for i in progress:\n",
    "    # batchloss = 0.0\n",
    "\n",
    "    # for (inputs, tgt, tgt_y) in train_dataloader:\n",
    "    #     optimizer.zero_grad()\n",
    "\n",
    "    #     result = model(src.float().to(device), tgt.float().to(device), src_mask, tgt_mask)\n",
    "    #     loss = loss_func(result, tgt_y.float().to(device))\n",
    "\n",
    "    #     loss.backward()\n",
    "    #     optimizer.step()\n",
    "    #     batchloss += loss\n",
    "    \n",
    "    # progress.set_description(\"{:0.5f}\".format(batchloss.cpu().item() / len(train_dataloader)))#??"
   ]
  },
  {
   "cell_type": "code",
   "execution_count": null,
   "metadata": {},
   "outputs": [
    {
     "data": {
      "text/plain": [
       "[<matplotlib.lines.Line2D at 0x1e2735300d0>]"
      ]
     },
     "execution_count": 10,
     "metadata": {},
     "output_type": "execute_result"
    },
    {
     "data": {
      "image/png": "[encoded data removed]",
      "text/plain": [
       "<Figure size 640x480 with 1 Axes>"
      ]
     },
     "metadata": {},
     "output_type": "display_data"
    }
   ],
   "source": [
    "plt.plot(loss_arr[50:1499], label=\"loss\")\n",
    "# print(loss_arr[1500])\n",
    "# print(loss_arr[2400])\n"
   ]
  },
  {
   "cell_type": "code",
   "execution_count": null,
   "metadata": {},
   "outputs": [],
   "source": [
    "eval_dataset = StrideDataset(\"FUDS_80.csv\", 50, 20, 2586, stride=1)\n",
    "# eval_dataset = StrideDataset(\"BJDST_80.csv\", 50, 20, 1226, stride=1)\n",
    "# eval_dataset = StrideDataset(\"DST_80.csv\", 50, 20, 1919, stride=1)\n",
    "eval_dataloader = DataLoader(eval_dataset, batch_size=257, shuffle=False, drop_last=False)\n",
    "\n",
    "\n",
    "dataset_d = CustomDataset(\"FUDS_80.csv\", 2586)\n",
    "# dataset_d = CustomDataset(\"BJDST_80.csv\", 1226)\n",
    "# dataset_d = CustomDataset(\"DST_80.csv\", 1919)"
   ]
  },
  {
   "cell_type": "code",
   "execution_count": null,
   "metadata": {},
   "outputs": [
    {
     "data": {
      "text/plain": [
       "[<matplotlib.lines.Line2D at 0x1e29085ac50>]"
      ]
     },
     "execution_count": 54,
     "metadata": {},
     "output_type": "execute_result"
    },
    {
     "data": {
      "image/png": "[encoded data removed]",
      "text/plain": [
       "<Figure size 640x480 with 1 Axes>"
      ]
     },
     "metadata": {},
     "output_type": "display_data"
    }
   ],
   "source": [
    "plt.plot(dataset_d.y)"
   ]
  },
  {
   "cell_type": "code",
   "execution_count": null,
   "metadata": {},
   "outputs": [
    {
     "name": "stdout",
     "output_type": "stream",
     "text": [
      "torch.Size([11026])\n",
      "(11095, 1)\n"
     ]
    }
   ],
   "source": [
    "model.eval()\n",
    "\n",
    "predictions = torch.Tensor(0)\n",
    "actual = torch.Tensor(0)\n",
    "\n",
    "with torch.no_grad():\n",
    "    for (inputs_v, inputs_c, dec_inputs, outputs) in eval_dataloader:\n",
    "        src_mask = model.generate_square_subsequent_mask(inputs_v.shape[1]).to(device)\n",
    "        tgt_mask = model.generate_square_subsequent_mask(dec_inputs.shape[1]).to(device)\n",
    "        \n",
    "        output = model(inputs_v.float().to(device), inputs_c.float().to(device), dec_inputs.float().to(device), src_mask, tgt_mask)\n",
    "        output = output.permute(1,0,2)\n",
    "        \n",
    "        predictions = torch.cat((predictions, output[-1].view(-1).cpu()), 0) # view(-1) => 1차원으로 바꾼다 생각\n",
    "        actual = torch.cat((actual, outputs[-1].view(-1).cpu()), 0)\n",
    "\n",
    "\n",
    "print(predictions.shape)\n",
    "print(dataset_d.y.shape)"
   ]
  },
  {
   "cell_type": "code",
   "execution_count": null,
   "metadata": {},
   "outputs": [],
   "source": [
    "predictions = predictions * 80.0"
   ]
  },
  {
   "cell_type": "code",
   "execution_count": null,
   "metadata": {},
   "outputs": [],
   "source": [
    "#predictions = mm_scaler.inverse_transform(predictions.reshape(-1,1))"
   ]
  },
  {
   "cell_type": "markdown",
   "metadata": {},
   "source": []
  },
  {
   "cell_type": "code",
   "execution_count": null,
   "metadata": {},
   "outputs": [],
   "source": []
  },
  {
   "cell_type": "code",
   "execution_count": null,
   "metadata": {},
   "outputs": [
    {
     "data": {
      "text/plain": [
       "[<matplotlib.lines.Line2D at 0x1e28c870670>]"
      ]
     },
     "execution_count": 58,
     "metadata": {},
     "output_type": "execute_result"
    },
    {
     "data": {
      "image/png": "[encoded data removed]",
      "text/plain": [
       "<Figure size 640x480 with 1 Axes>"
      ]
     },
     "metadata": {},
     "output_type": "display_data"
    }
   ],
   "source": [
    "#plt.plot(range(20000-639,20000),dataset_d.y[20000-639:], label=\"real\")\n",
    "plt.plot(predictions, label=\"predict\")\n",
    "#plt.plot(dataset_d.y, label=\"real\")\n",
    "#plt.xlim(0,2)\n",
    "\n",
    "\n",
    "# plt.legend()\n",
    "# plt.show()"
   ]
  },
  {
   "cell_type": "code",
   "execution_count": null,
   "metadata": {},
   "outputs": [
    {
     "data": {
      "text/plain": [
       "Text(0.5, 0, 'Time Steps')"
      ]
     },
     "execution_count": 59,
     "metadata": {},
     "output_type": "execute_result"
    },
    {
     "data": {
      "image/png": "[encoded data removed]",
      "text/plain": [
       "<Figure size 1000x500 with 1 Axes>"
      ]
     },
     "metadata": {},
     "output_type": "display_data"
    }
   ],
   "source": [
    "plt.figure(figsize=(10,5))\n",
    "plt.plot(dataset_d.y, color='red', alpha=0.7)\n",
    "plt.plot(predictions, color='blue', linewidth=0.7)\n",
    "plt.title('Actual vs Forecast')\n",
    "plt.legend(['Actual', 'Forecast'])\n",
    "plt.xlabel('Time Steps')\n",
    "#plt.xlim([4500,5000])AA"
   ]
  },
  {
   "cell_type": "code",
   "execution_count": null,
   "metadata": {},
   "outputs": [
    {
     "name": "stdout",
     "output_type": "stream",
     "text": [
      "(11095, 1)\n",
      "torch.Size([11026])\n",
      "mae :  0.6694009858679055\n",
      "mse :  0.6530654367435803\n",
      "rmse :  0.8081246418366292\n"
     ]
    }
   ],
   "source": [
    "from sklearn.metrics import mean_absolute_error, mean_squared_error\n",
    "\n",
    "print(dataset_d.y.shape)\n",
    "print(predictions.shape)\n",
    "\n",
    "print(\"mae : \", mean_absolute_error(dataset_d.y[:10000], predictions[:10000]))\n",
    "print(\"mse : \", mean_squared_error(dataset_d.y[:10000], predictions[:10000]))\n",
    "print(\"rmse : \", np.sqrt(mean_squared_error(dataset_d.y[:10000], predictions[:10000])))\n",
    "\n",
    "\n"
   ]
  },
  {
   "cell_type": "code",
   "execution_count": null,
   "metadata": {},
   "outputs": [],
   "source": [
    "class CustomDataset2(Dataset):\n",
    "    def __init__(self, file_path, x_size):\n",
    "        df = pd.read_csv(file_path)\n",
    "        #print(df.isnull().sum())\n",
    "\n",
    "        self.I = df.iloc[x_size:, 6:7].values\n",
    "        #self.x = np.reshape(x, (x.shape[0], 1, x.shape[1]))\n",
    "        # self.y = df.iloc[x_size:, 13:14].values\n",
    "        \n",
    "        self.length = len(df) - x_size\n",
    "\n",
    "    #getitem이거 왜씀?\n",
    "    def __getitem__(self, index):\n",
    "        # x = torch.FloatTensor([self.x[index]])\n",
    "        # y = torch.FloatTensor([self.y[index]])\n",
    "        # return x, y\n",
    "        feature = torch.FloatTensor([self.x[index]])\n",
    "        # label = torch.FloatTensor(self.y[index])\n",
    "\n",
    "        return feature\n",
    "\n",
    "    def __len__(self):\n",
    "        return self.length"
   ]
  },
  {
   "cell_type": "code",
   "execution_count": null,
   "metadata": {},
   "outputs": [],
   "source": [
    "# A = 1\n",
    "\n",
    "# dataset_d2 = CustomDataset2(\"US06_80.csv\", 1207)\n",
    "\n",
    "# dataset_d2.I\n",
    "\n",
    "# # test = np.zeros(10690)\n",
    "\n",
    "# # test = dataset_d2.I// 1.648484097\n",
    "\n",
    "# # plt.plot(test)\n",
    "\n",
    "# def fx(x_esti, idx):\n",
    "#     # return A * x_esti + (dataset_d2.I[idx]*(1/44.72) / (1.648484097)) \n",
    "#     return x_esti + (dataset_d2.I[idx]*100*(1.007922) / (1.648484097*3600/0.8)) \n",
    "\n",
    "\n",
    "\n",
    "# soc_func = np.zeros(10690)\n",
    "\n",
    "# x_esti = None\n",
    "# for i in range(10690):\n",
    "#     if i == 0:\n",
    "#         x_esti = 80\n",
    "#     else:\n",
    "#         x_esti = fx(x_esti, i)\n",
    "        \n",
    "#     soc_func[i] = x_esti\n",
    "    \n"
   ]
  },
  {
   "cell_type": "code",
   "execution_count": null,
   "metadata": {},
   "outputs": [],
   "source": [
    "# soc_func[10680:10690]"
   ]
  },
  {
   "cell_type": "code",
   "execution_count": null,
   "metadata": {},
   "outputs": [],
   "source": [
    "# plt.figure(figsize=(10,10))\n",
    "# plt.plot(soc_func, label='Measurements(model soc)')\n",
    "# plt.plot(dataset_d.y, color='red', alpha=0.7)\n",
    "# plt.legend(['Actual', 'coulomb counting'])\n",
    "\n",
    "# # # plt.xlim(0,200)\n",
    "# # plt.ylim(0,100)"
   ]
  },
  {
   "cell_type": "code",
   "execution_count": null,
   "metadata": {},
   "outputs": [],
   "source": [
    "# from sklearn.metrics import mean_absolute_error \n",
    "\n",
    "# print(dataset_d.y.shape)\n",
    "# print(predictions.shape)\n",
    "\n",
    "# mean_absolute_error(dataset_d.y[:10000], soc_func[:10000])"
   ]
  },
  {
   "cell_type": "markdown",
   "metadata": {},
   "source": [
    "칼만필터 적용 (전류적산 / 모델 예측)"
   ]
  },
  {
   "cell_type": "code",
   "execution_count": null,
   "metadata": {},
   "outputs": [],
   "source": [
    "# def kalman_filter(z_meas, x_esti, P):\n",
    "#     \"\"\"Kalman Filter Algorithm for One Variable.\"\"\"\n",
    "#     # (1) Prediction.\n",
    "#     x_pred = A * x_esti\n",
    "#     P_pred = A * P * A + Q\n",
    "\n",
    "#     # (2) Kalman Gain.\n",
    "#     K = P_pred * H / (H * P_pred * H + R)\n",
    "\n",
    "#     # (3) Estimation.\n",
    "#     x_esti = x_pred + K * (z_meas - H * x_pred)\n",
    "\n",
    "#     # (4) Error Covariance.\n",
    "#     P = P_pred - K * H * P_pred\n",
    "\n",
    "#     return x_esti, P"
   ]
  },
  {
   "cell_type": "code",
   "execution_count": null,
   "metadata": {},
   "outputs": [],
   "source": [
    "# # Initialization for system model.\n",
    "# A = 1\n",
    "# H = 1\n",
    "# Q = 0.00000005\n",
    "# R = 0.00001\n",
    "# # Initialization for estimation.\n",
    "# x_0 = 80\n",
    "# P_0 = 10"
   ]
  },
  {
   "cell_type": "code",
   "execution_count": null,
   "metadata": {},
   "outputs": [],
   "source": [
    "# n_samples = 10621\n",
    "\n",
    "# soc_meas_save = np.zeros(n_samples)\n",
    "# soc_esti_save = np.zeros(n_samples)"
   ]
  },
  {
   "cell_type": "code",
   "execution_count": null,
   "metadata": {},
   "outputs": [],
   "source": [
    "# x_esti, P = None, None\n",
    "# for i in range(n_samples):\n",
    "#     z_meas = predictions[i]\n",
    "#     if i == 0:\n",
    "#         x_esti, P = x_0, P_0\n",
    "#     else:\n",
    "#         x_esti, P = kalman_filter(z_meas, x_esti, P)\n",
    "\n",
    "#     soc_meas_save[i] = z_meas\n",
    "#     soc_esti_save[i] = x_esti"
   ]
  },
  {
   "cell_type": "code",
   "execution_count": null,
   "metadata": {},
   "outputs": [],
   "source": [
    "# plt.plot(soc_meas_save, label='Measurements(model soc)')\n",
    "# plt.plot(soc_esti_save, label='Kalman Filter')\n",
    "# plt.plot(dataset_d.y, label='actual data')\n",
    "# plt.legend(loc='upper left')\n",
    "# plt.title('Kalman Filter')\n",
    "# plt.xlabel('Time Steps')\n",
    "\n",
    "# plt.xlim(5200, 5400)\n",
    "# plt.ylim(39, 41)"
   ]
  },
  {
   "cell_type": "code",
   "execution_count": null,
   "metadata": {},
   "outputs": [],
   "source": [
    "# mean_absolute_error(dataset_d.y[:10000], soc_esti_save[:10000])"
   ]
  },
  {
   "cell_type": "markdown",
   "metadata": {},
   "source": [
    "확장칼만필터"
   ]
  },
  {
   "cell_type": "code",
   "execution_count": null,
   "metadata": {},
   "outputs": [],
   "source": [
    "# class CustomDataset2(Dataset):\n",
    "#     def __init__(self, file_path, x_size):\n",
    "#         df = pd.read_csv(file_path)\n",
    "#         #print(df.isnull().sum())\n",
    "\n",
    "#         self.I = df.iloc[x_size:, 6:7].values\n",
    "#         #self.x = np.reshape(x, (x.shape[0], 1, x.shape[1]))\n",
    "#         # self.y = df.iloc[x_size:, 13:14].values\n",
    "        \n",
    "#         self.length = len(df) - x_size\n",
    "\n",
    "#     #getitem이거 왜씀?\n",
    "#     def __getitem__(self, index):\n",
    "#         # x = torch.FloatTensor([self.x[index]])\n",
    "#         # y = torch.FloatTensor([self.y[index]])\n",
    "#         # return x, y\n",
    "#         feature = torch.FloatTensor([self.x[index]])\n",
    "#         # label = torch.FloatTensor(self.y[index])\n",
    "\n",
    "#         return feature\n",
    "\n",
    "#     def __len__(self):\n",
    "#         return self.length"
   ]
  },
  {
   "cell_type": "code",
   "execution_count": null,
   "metadata": {},
   "outputs": [],
   "source": [
    "# dataset_d2 = CustomDataset2(\"US06_80.csv\", 1207)\n",
    "\n",
    "# dataset_d2.I"
   ]
  },
  {
   "cell_type": "code",
   "execution_count": null,
   "metadata": {},
   "outputs": [],
   "source": [
    "# def Ajacob_at(x_esti):\n",
    "#     return A\n",
    "\n",
    "\n",
    "# def Hjacob_at(x_pred):\n",
    "#     return H\n",
    "\n",
    "\n",
    "# def fx(x_esti, idx):\n",
    "#     # return A * x_esti + (dataset_d2.I[idx]*(1/44.72) / (1.648484097)) \n",
    "#     return x_esti + (dataset_d2.I[idx]*100*(1.007922) / (1.648484097*3600/0.8)) \n",
    "\n",
    "\n",
    "# def hx(x_pred):\n",
    "#     return x_pred\n",
    "\n",
    "\n",
    "# def extended_kalman_filter(z_meas, x_esti, P):\n",
    "#     \"\"\"Extended Kalman Filter Algorithm.\"\"\"\n",
    "#     # (1) Prediction.\n",
    "#     A = Ajacob_at(x_esti)\n",
    "#     x_pred = fx(x_esti)\n",
    "#     P_pred = A @ P @ A.T + Q\n",
    "\n",
    "#     # (2) Kalman Gain.\n",
    "#     H = Hjacob_at(x_pred)\n",
    "#     K = P_pred @ H.T @ inv(H @ P_pred @ H.T + R)\n",
    "\n",
    "#     # (3) Estimation.\n",
    "#     x_esti = x_pred + K @ (z_meas - hx(x_pred))\n",
    "\n",
    "#     # (4) Error Covariance.\n",
    "#     P = P_pred - K @ H @ P_pred\n",
    "\n",
    "#     return x_esti, P"
   ]
  },
  {
   "cell_type": "code",
   "execution_count": null,
   "metadata": {},
   "outputs": [],
   "source": [
    "# # Initialization for system model.\n",
    "# A = 1\n",
    "# H = 1\n",
    "# Q = 0.00000001\n",
    "# R = 0.000001\n",
    "\n",
    "\n",
    "\n",
    "# # Initialization for estimation.\n",
    "# x_0 = 80\n",
    "# P_0 = 10"
   ]
  },
  {
   "cell_type": "code",
   "execution_count": null,
   "metadata": {},
   "outputs": [],
   "source": [
    "# n_samples = 10621\n",
    "\n",
    "# soc_meas_save = np.zeros(n_samples)\n",
    "# soc_esti_save = np.zeros(n_samples)"
   ]
  },
  {
   "cell_type": "code",
   "execution_count": null,
   "metadata": {},
   "outputs": [],
   "source": [
    "# x_esti, P = None, None\n",
    "# for i in range(n_samples):\n",
    "#     z_meas = predictions[i]\n",
    "#     if i == 0:\n",
    "#         x_esti, P = x_0, P_0\n",
    "#     else:\n",
    "#         x_esti, P = kalman_filter(z_meas, x_esti, P)\n",
    "\n",
    "#     soc_meas_save[i] = z_meas\n",
    "#     soc_esti_save[i] = x_esti"
   ]
  },
  {
   "cell_type": "code",
   "execution_count": null,
   "metadata": {},
   "outputs": [],
   "source": [
    "# plt.plot(soc_meas_save, label='Measurements(model soc)')\n",
    "# plt.plot(soc_esti_save, label='Kalman Filter')\n",
    "# plt.plot(dataset_d.y, label='actual data')\n",
    "# plt.legend(loc='upper left')\n",
    "# plt.title('Kalman Filter')\n",
    "# plt.xlabel('Time Steps')\n",
    "\n",
    "# plt.xlim(3000, 4000)\n",
    "# plt.ylim(50, 58)"
   ]
  },
  {
   "cell_type": "code",
   "execution_count": null,
   "metadata": {},
   "outputs": [],
   "source": [
    "# mean_absolute_error(dataset_d.y[:10000], soc_esti_save[:10000])"
   ]
  },
  {
   "cell_type": "markdown",
   "metadata": {},
   "source": [
    "무향 칼만 필터(Unscented Kalman Filter)"
   ]
  },
  {
   "cell_type": "code",
   "execution_count": null,
   "metadata": {},
   "outputs": [],
   "source": [
    "from numpy.linalg import inv, cholesky"
   ]
  },
  {
   "cell_type": "code",
   "execution_count": null,
   "metadata": {},
   "outputs": [],
   "source": [
    "def sigma_points(mu, Sigma, kappa):\n",
    "    n = 1\n",
    "    Xi = np.zeros((n, 2*n+1))\n",
    "    W = np.zeros(2*n+1)\n",
    "    \n",
    "    Xi[:, 0] = mu\n",
    "    W[0] = kappa / (n + kappa)\n",
    "    \n",
    "    U = cholesky((n + kappa)*Sigma)\n",
    "    \n",
    "    for i in range(n):\n",
    "        Xi[:, i+1]   = mu + U[:, i]\n",
    "        Xi[:, n+i+1] = mu - U[:, i]\n",
    "        W[i+1]       = 1 / (2*(n+kappa))\n",
    "        W[n+i+1]     = W[i+1]\n",
    "        \n",
    "    return Xi, W"
   ]
  },
  {
   "cell_type": "code",
   "execution_count": null,
   "metadata": {},
   "outputs": [],
   "source": [
    "def UT(Xi, W, noiseCov):\n",
    "    mean = np.sum(W * Xi, axis=1)\n",
    "    cov = W * (Xi - mean.reshape(-1, 1)) @ (Xi  - mean.reshape(-1, 1)).T\n",
    "    return mean, cov + noiseCov"
   ]
  },
  {
   "cell_type": "code",
   "execution_count": null,
   "metadata": {},
   "outputs": [
    {
     "data": {
      "text/plain": [
       "array([[-1.92000000e-05],\n",
       "       [-1.92000000e-05],\n",
       "       [-1.92000000e-05],\n",
       "       ...,\n",
       "       [-2.47111535e+00],\n",
       "       [-3.01763916e+00],\n",
       "       [-3.99943113e+00]])"
      ]
     },
     "execution_count": 83,
     "metadata": {},
     "output_type": "execute_result"
    }
   ],
   "source": [
    "dataset_d2 = CustomDataset2(\"FUDS_80.csv\", 2586)\n",
    "# dataset_d2 = CustomDataset2(\"BJDST_80.csv\", 1226)\n",
    "# dataset_d2 = CustomDataset2(\"DST_80.csv\", 1919)\n",
    "\n",
    "dataset_d2.I"
   ]
  },
  {
   "cell_type": "code",
   "execution_count": null,
   "metadata": {},
   "outputs": [],
   "source": [
    "def fx(x_esti, idx):\n",
    "    # return A * x_esti + (dataset_d2.I[idx]*(1/44.72) / (1.648484097)) \n",
    "    return x_esti + (dataset_d2.I[idx]*100*(1.007922) / (1.600182*3600/0.8)) #US -> 1.648484097 / DST -> 1.594214 / FUDS->1.600182  / BJDST->1.653517646\n",
    "\n",
    "\n",
    "def hx(x_pred):\n",
    "    return x_pred"
   ]
  },
  {
   "cell_type": "code",
   "execution_count": null,
   "metadata": {},
   "outputs": [],
   "source": [
    "def unscented_kalman_filter(z_meas, x_esti, P, idx):\n",
    "    \"\"\"Unscented Kalman Filter Algorithm.\"\"\"\n",
    "    # (1) Sample Sigma Points and Weights.\n",
    "    Xi, W = sigma_points(x_esti, P, kappa)\n",
    "\n",
    "    # (2) Predict Mean and Error Covariance of States.\n",
    "    #fXi = fx(Xi) + (dataset_d.y[idx]-x_esti)\n",
    "    fXi = fx(Xi, idx) \n",
    "    x_pred, P_x = UT(fXi, W, Q)\n",
    "\n",
    "    # (3) Calculate Mean and Error Covariance for the Expected Observation.\n",
    "    hXi = hx(fXi)\n",
    "    z_pred, P_z = UT(hXi, W, R)\n",
    "\n",
    "    # (4) Calculate Off Diagonal Elements of Error Covariance and Kalman Gain.\n",
    "    Pxz = W * (fXi - x_pred.reshape(-1, 1)) @ (hXi - z_pred.reshape(-1, 1)).T\n",
    "    K = Pxz @ inv(P_z)\n",
    "\n",
    "    # (5) Estimate Mean and Error Covariance of States. \n",
    "    x_esti = x_pred + K @ (z_meas - z_pred)\n",
    "    P = P_x - K @ P_z @ K.T\n",
    "\n",
    "    return x_esti, P\n",
    "\n"
   ]
  },
  {
   "cell_type": "code",
   "execution_count": null,
   "metadata": {},
   "outputs": [],
   "source": [
    "# Initialization for system model.\n",
    "# Matrix: A, H, Q, R, P_0\n",
    "# Vector: x_0\n",
    "# A = np.eye(3) + dt * np.array([[0, 1, 0],\n",
    "#                                [0, 0, 0],\n",
    "#                                [0, 0, 0]])\n",
    "A = 1\n",
    "Q = (10**(-5)) * 1\n",
    "R = (10**(-1)) * 5\n",
    "\n",
    "# Initialization for estimation.\n",
    "x_0 = 80\n",
    "P_0 = 10 * np.eye(1) # p_0 = 10\n",
    "\n",
    "# Initialization for sigma points.\n",
    "kappa = 2"
   ]
  },
  {
   "cell_type": "code",
   "execution_count": null,
   "metadata": {},
   "outputs": [],
   "source": [
    "n_samples = 10537\n",
    "\n",
    "soc_meas_save = np.zeros(n_samples)\n",
    "soc_esti_save = np.zeros(n_samples)"
   ]
  },
  {
   "cell_type": "code",
   "execution_count": null,
   "metadata": {},
   "outputs": [],
   "source": [
    "x_esti, P = None, None\n",
    "for i in range(n_samples):\n",
    "    z_meas = np.array(predictions[i])\n",
    "    if i == 0:\n",
    "        x_esti, P = x_0, P_0\n",
    "    else:\n",
    "        x_esti, P = unscented_kalman_filter(z_meas, x_esti, P, i)\n",
    "\n",
    "    soc_meas_save[i] = z_meas\n",
    "    soc_esti_save[i] = x_esti"
   ]
  },
  {
   "cell_type": "code",
   "execution_count": null,
   "metadata": {},
   "outputs": [
    {
     "data": {
      "text/plain": [
       "Text(0.5, 0, 'Time Steps')"
      ]
     },
     "execution_count": 89,
     "metadata": {},
     "output_type": "execute_result"
    },
    {
     "data": {
      "image/png": "[encoded data removed]",
      "text/plain": [
       "<Figure size 1000x500 with 1 Axes>"
      ]
     },
     "metadata": {},
     "output_type": "display_data"
    }
   ],
   "source": [
    "plt.figure(figsize=(10,5))\n",
    "\n",
    "plt.plot(soc_meas_save, label='Measurements(model soc)')\n",
    "plt.plot(soc_esti_save, label='Kalman Filter')\n",
    "plt.plot(dataset_d.y, label='actual data')\n",
    "plt.legend(loc='upper left')\n",
    "plt.title('Kalman Filter')\n",
    "plt.xlabel('Time Steps')\n",
    "\n",
    "\n",
    "\n",
    "# plt.xlim(7500, 8500)\n",
    "# plt.ylim(15, 24)"
   ]
  },
  {
   "cell_type": "code",
   "execution_count": null,
   "metadata": {},
   "outputs": [
    {
     "name": "stdout",
     "output_type": "stream",
     "text": [
      "mae :  0.6456564415797332\n",
      "mse :  0.5488984735933365\n",
      "rmse :  0.7408768275451302\n"
     ]
    }
   ],
   "source": [
    "print(\"mae : \", mean_absolute_error(dataset_d.y[:10000], soc_esti_save[:10000]))\n",
    "print(\"mse : \", mean_squared_error(dataset_d.y[:10000], soc_esti_save[:10000]))\n",
    "print(\"rmse : \", np.sqrt(mean_squared_error(dataset_d.y[:10000], soc_esti_save[:10000])))"
   ]
  },
  {
   "cell_type": "markdown",
   "metadata": {},
   "source": [
    "+"
   ]
  },
  {
   "cell_type": "code",
   "execution_count": null,
   "metadata": {},
   "outputs": [],
   "source": [
    "# # Initialization for system model.\n",
    "# A = 1\n",
    "# H = 1\n",
    "# Q = 0.00000001\n",
    "# R = 0.00001\n",
    "\n",
    "\n",
    "\n",
    "# # Initialization for estimation.\n",
    "# x_0 = 80\n",
    "# P_0 = 10"
   ]
  },
  {
   "cell_type": "code",
   "execution_count": null,
   "metadata": {},
   "outputs": [],
   "source": [
    "# x_esti, P = None, None\n",
    "# for i in range(n_samples):\n",
    "#     z_meas = soc_esti_save[i]\n",
    "#     if i == 0:\n",
    "#         x_esti, P = x_0, P_0\n",
    "#     else:\n",
    "#         x_esti, P = kalman_filter(z_meas, x_esti, P)\n",
    "\n",
    "#     soc_meas_save[i] = z_meas\n",
    "#     soc_esti_save[i] = x_esti"
   ]
  },
  {
   "cell_type": "code",
   "execution_count": null,
   "metadata": {},
   "outputs": [],
   "source": [
    "# plt.plot(soc_meas_save, label='Measurements(model soc)')\n",
    "# plt.plot(soc_esti_save, label='Kalman Filter')\n",
    "# plt.plot(dataset_d.y, label='actual data')\n",
    "# plt.legend(loc='upper left')\n",
    "# plt.title('Kalman Filter')\n",
    "# plt.xlabel('Time Steps')\n",
    "\n",
    "\n",
    "# plt.xlim(4000, 5000)\n",
    "# plt.ylim(42, 50)"
   ]
  },
  {
   "cell_type": "code",
   "execution_count": null,
   "metadata": {},
   "outputs": [],
   "source": [
    "# mean_absolute_error(dataset_d.y[:10000], soc_esti_save[:10000])"
   ]
  }
 ],
 "metadata": {
  "kernelspec": {
   "display_name": "Python 3",
   "language": "python",
   "name": "python3"
  },
  "language_info": {
   "codemirror_mode": {
    "name": "ipython",
    "version": 3
   },
   "file_extension": ".py",
   "mimetype": "text/x-python",
   "name": "python",
   "nbconvert_exporter": "python",
   "pygments_lexer": "ipython3",
   "version": "3.10.9"
  },
  "orig_nbformat": 4
 },
 "nbformat": 4,
 "nbformat_minor": 2
}
